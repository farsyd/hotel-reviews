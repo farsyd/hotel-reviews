{
 "cells": [
  {
   "cell_type": "markdown",
   "metadata": {},
   "source": [
    "## Imports"
   ]
  },
  {
   "cell_type": "code",
   "execution_count": 1,
   "metadata": {
    "ExecuteTime": {
     "end_time": "2019-08-23T09:22:09.455056Z",
     "start_time": "2019-08-23T09:22:08.202836Z"
    }
   },
   "outputs": [
    {
     "name": "stdout",
     "output_type": "stream",
     "text": [
      "Populating the interactive namespace from numpy and matplotlib\n"
     ]
    },
    {
     "name": "stderr",
     "output_type": "stream",
     "text": [
      "/Users/farsyd/anaconda3/envs/metis/lib/python3.6/site-packages/IPython/core/magics/pylab.py:160: UserWarning: pylab import has clobbered these variables: ['shuffle']\n",
      "`%matplotlib` prevents importing * from pylab and numpy\n",
      "  \"\\n`%matplotlib` prevents importing * from pylab and numpy\"\n"
     ]
    }
   ],
   "source": [
    "import csv\n",
    "from pymongo import MongoClient\n",
    "\n",
    "import nltk\n",
    "from nltk.tokenize import word_tokenize\n",
    "from nltk.util import ngrams\n",
    "\n",
    "from sklearn.feature_extraction.text import CountVectorizer\n",
    "from nltk.stem import PorterStemmer\n",
    "from nltk.stem.lancaster import LancasterStemmer\n",
    "\n",
    "import pickle\n",
    "\n",
    "import pandas as pd\n",
    "\n",
    "import re\n",
    "import string\n",
    "\n",
    "from sklearn.feature_extraction.text import TfidfVectorizer\n",
    "\n",
    "from sklearn.preprocessing import scale\n",
    "from sklearn.cluster import KMeans\n",
    "from sklearn.utils import shuffle\n",
    "\n",
    "# sets backend to render higher res images\n",
    "%config InlineBackend.figure_formats = ['retina']\n",
    "\n",
    "# see https://ipython.readthedocs.io/en/stable/interactive/magics.html\n",
    "%pylab inline"
   ]
  },
  {
   "cell_type": "code",
   "execution_count": 2,
   "metadata": {
    "ExecuteTime": {
     "end_time": "2019-08-23T09:22:09.459219Z",
     "start_time": "2019-08-23T09:22:09.456867Z"
    }
   },
   "outputs": [],
   "source": [
    "# nltk.download('popular')"
   ]
  },
  {
   "cell_type": "markdown",
   "metadata": {},
   "source": [
    "## Converting CSV to List of Dicts"
   ]
  },
  {
   "cell_type": "code",
   "execution_count": 3,
   "metadata": {
    "ExecuteTime": {
     "end_time": "2019-08-23T09:22:09.463407Z",
     "start_time": "2019-08-23T09:22:09.461459Z"
    }
   },
   "outputs": [],
   "source": [
    "# #Only when loading to MongoDB first time\n",
    "# filename = 'data/Nita_Lake_Lodge_Whistler-Whistler_British_Columbia__en.csv'"
   ]
  },
  {
   "cell_type": "code",
   "execution_count": 4,
   "metadata": {
    "ExecuteTime": {
     "end_time": "2019-08-23T09:22:09.467058Z",
     "start_time": "2019-08-23T09:22:09.465182Z"
    }
   },
   "outputs": [],
   "source": [
    "# #Only when loading to MongoDB first time\n",
    "# with open(filename) as f:\n",
    "#     data_listofdict = [{k: v for k, v in row.items()}\n",
    "#         for row in csv.DictReader(f, skipinitialspace=True)]"
   ]
  },
  {
   "cell_type": "code",
   "execution_count": 5,
   "metadata": {
    "ExecuteTime": {
     "end_time": "2019-08-23T09:22:09.470893Z",
     "start_time": "2019-08-23T09:22:09.468934Z"
    }
   },
   "outputs": [],
   "source": [
    "# #Only when loading to MongoDB first time\n",
    "# data_listofdict[0]"
   ]
  },
  {
   "cell_type": "markdown",
   "metadata": {},
   "source": [
    "## Connect to MongoDB on AWS Instance"
   ]
  },
  {
   "cell_type": "code",
   "execution_count": 6,
   "metadata": {
    "ExecuteTime": {
     "end_time": "2019-08-23T09:22:09.517118Z",
     "start_time": "2019-08-23T09:22:09.472462Z"
    }
   },
   "outputs": [],
   "source": [
    "config = {\n",
    "  'host': '18.188.138.161:27017',\n",
    "  'username': 'mongo_user',\n",
    "  'password': 'password',\n",
    "  'authSource': 'cool'\n",
    "}"
   ]
  },
  {
   "cell_type": "code",
   "execution_count": 7,
   "metadata": {
    "ExecuteTime": {
     "end_time": "2019-08-23T09:22:09.523405Z",
     "start_time": "2019-08-23T09:22:09.519066Z"
    }
   },
   "outputs": [],
   "source": [
    "client = MongoClient(**config)\n",
    "\n",
    "ta_db = client.ta_reviews"
   ]
  },
  {
   "cell_type": "code",
   "execution_count": 8,
   "metadata": {
    "ExecuteTime": {
     "end_time": "2019-08-23T09:22:09.528819Z",
     "start_time": "2019-08-23T09:22:09.525777Z"
    }
   },
   "outputs": [],
   "source": [
    "# secure_config = {\n",
    "#   'host': '18.188.138.161:27017',\n",
    "#   'username': 'admin',\n",
    "#   'password': 'secure_password',\n",
    "#   'authSource': 'cool'\n",
    "# }"
   ]
  },
  {
   "cell_type": "code",
   "execution_count": 9,
   "metadata": {
    "ExecuteTime": {
     "end_time": "2019-08-23T09:22:09.533377Z",
     "start_time": "2019-08-23T09:22:09.531155Z"
    }
   },
   "outputs": [],
   "source": [
    "# admin_client = MongoClient(**secure_config)"
   ]
  },
  {
   "cell_type": "code",
   "execution_count": 10,
   "metadata": {
    "ExecuteTime": {
     "end_time": "2019-08-23T09:22:09.537496Z",
     "start_time": "2019-08-23T09:22:09.535139Z"
    }
   },
   "outputs": [],
   "source": [
    "# ta_db = admin_client[\"ta_reviews\"]"
   ]
  },
  {
   "cell_type": "code",
   "execution_count": 11,
   "metadata": {
    "ExecuteTime": {
     "end_time": "2019-08-23T09:22:09.541946Z",
     "start_time": "2019-08-23T09:22:09.539590Z"
    }
   },
   "outputs": [],
   "source": [
    "# use_config = {\n",
    "#   'host': '18.188.138.161:27017',\n",
    "#   'username': 'admin',\n",
    "#   'password': 'secure_password',\n",
    "#   'authSource': 'ta_reviews'\n",
    "# }"
   ]
  },
  {
   "cell_type": "code",
   "execution_count": 12,
   "metadata": {
    "ExecuteTime": {
     "end_time": "2019-08-23T09:22:09.546314Z",
     "start_time": "2019-08-23T09:22:09.544163Z"
    }
   },
   "outputs": [],
   "source": [
    "# use_client = MongoClient(**use_config)\n",
    "\n",
    "# use_db = use_client.ta_reviews"
   ]
  },
  {
   "cell_type": "markdown",
   "metadata": {},
   "source": [
    "## Insert list of dicts into MongoDB"
   ]
  },
  {
   "cell_type": "code",
   "execution_count": 13,
   "metadata": {
    "ExecuteTime": {
     "end_time": "2019-08-23T09:22:09.550486Z",
     "start_time": "2019-08-23T09:22:09.548111Z"
    }
   },
   "outputs": [],
   "source": [
    "## Uncomment when first inserting data into MongoDB\n",
    "# ta_db.nita.insert_many(data_listofdict)"
   ]
  },
  {
   "cell_type": "markdown",
   "metadata": {
    "ExecuteTime": {
     "end_time": "2019-08-15T18:28:13.098549Z",
     "start_time": "2019-08-15T18:28:12.988409Z"
    }
   },
   "source": [
    "The list of dictionaries has been inserted into MongoDB"
   ]
  },
  {
   "cell_type": "markdown",
   "metadata": {},
   "source": [
    "## Explore Data"
   ]
  },
  {
   "cell_type": "code",
   "execution_count": 14,
   "metadata": {
    "ExecuteTime": {
     "end_time": "2019-08-23T09:22:09.555561Z",
     "start_time": "2019-08-23T09:22:09.552784Z"
    }
   },
   "outputs": [],
   "source": [
    "# When initially running notebook only\n",
    "ta_obj = ta_db.nita"
   ]
  },
  {
   "cell_type": "code",
   "execution_count": 15,
   "metadata": {
    "ExecuteTime": {
     "end_time": "2019-08-23T09:22:09.558927Z",
     "start_time": "2019-08-23T09:22:09.557136Z"
    }
   },
   "outputs": [],
   "source": [
    "# # For initial exploration\n",
    "# ta_db.list_collection_names()"
   ]
  },
  {
   "cell_type": "code",
   "execution_count": 16,
   "metadata": {
    "ExecuteTime": {
     "end_time": "2019-08-23T09:22:09.562888Z",
     "start_time": "2019-08-23T09:22:09.560617Z"
    }
   },
   "outputs": [],
   "source": [
    "# # For initial exploration\n",
    "# ta_db.nita.count()"
   ]
  },
  {
   "cell_type": "code",
   "execution_count": 17,
   "metadata": {
    "ExecuteTime": {
     "end_time": "2019-08-23T09:22:09.566668Z",
     "start_time": "2019-08-23T09:22:09.564471Z"
    }
   },
   "outputs": [],
   "source": [
    "# list(ta_obj.find().limit(1))"
   ]
  },
  {
   "cell_type": "markdown",
   "metadata": {
    "heading_collapsed": true
   },
   "source": [
    "## NLP Pipeline"
   ]
  },
  {
   "cell_type": "markdown",
   "metadata": {
    "heading_collapsed": true,
    "hidden": true
   },
   "source": [
    "### Defining the Class"
   ]
  },
  {
   "cell_type": "code",
   "execution_count": 18,
   "metadata": {
    "ExecuteTime": {
     "end_time": "2019-08-23T09:22:09.572897Z",
     "start_time": "2019-08-23T09:22:09.568517Z"
    },
    "hidden": true
   },
   "outputs": [],
   "source": [
    "# class nlp_preprocessor:\n",
    "   \n",
    "#     def __init__(self, vectorizer=CountVectorizer(), tokenizer=None, cleaning_function=None, \n",
    "#                  stemmer=None, model=None):\n",
    "#         \"\"\"\n",
    "#         A class for pipelining our data in NLP problems. The user provides a series of \n",
    "#         tools, and this class manages all of the training, transforming, and modification\n",
    "#         of the text data.\n",
    "#         ---\n",
    "#         Inputs:\n",
    "#         vectorizer: the model to use for vectorization of text data\n",
    "#         tokenizer: The tokenizer to use, if none defaults to split on spaces\n",
    "#         cleaning_function: how to clean the data, if None, defaults to the in built class\n",
    "#         \"\"\"\n",
    "#         if not tokenizer:\n",
    "#             tokenizer = self.splitter\n",
    "#         if not cleaning_function:\n",
    "#             cleaning_function = self.clean_text\n",
    "#         self.stemmer = stemmer\n",
    "#         self.tokenizer = tokenizer\n",
    "#         self.model = model\n",
    "#         self.cleaning_function = cleaning_function\n",
    "#         self.vectorizer = vectorizer\n",
    "#         self._is_fit = False\n",
    "        \n",
    "#     def splitter(self, text):\n",
    "#         \"\"\"\n",
    "#         Default tokenizer that splits on spaces naively\n",
    "#         \"\"\"\n",
    "#         return text.split(' ')\n",
    "        \n",
    "#     def clean_text(self, text, tokenizer, stemmer):\n",
    "#         \"\"\"\n",
    "#         A naive function to lowercase all works can clean them quickly.\n",
    "#         This is the default behavior if no other cleaning function is specified\n",
    "#         \"\"\"\n",
    "#         cleaned_text = []\n",
    "#         for post in text:\n",
    "#             cleaned_words = []\n",
    "#             for word in tokenizer(post):\n",
    "#                 low_word = word.lower()\n",
    "#                 if stemmer:\n",
    "#                     low_word = stemmer.stem(low_word)\n",
    "#                 cleaned_words.append(low_word)\n",
    "#             cleaned_text.append(' '.join(cleaned_words))\n",
    "#         return cleaned_text\n",
    "    \n",
    "#     def fit(self, text):\n",
    "#         \"\"\"\n",
    "#         Cleans the data and then fits the vectorizer with\n",
    "#         the user provided text\n",
    "#         \"\"\"\n",
    "#         clean_text = self.cleaning_function(text, self.tokenizer, self.stemmer)\n",
    "#         self.vectorizer.fit(clean_text)\n",
    "#         self._is_fit = True\n",
    "        \n",
    "#     def transform(self, text):\n",
    "#         \"\"\"\n",
    "#         Cleans any provided data and then transforms the data into\n",
    "#         a vectorized format based on the fit function. Returns the\n",
    "#         vectorized form of the data.\n",
    "#         \"\"\"\n",
    "#         if not self._is_fit:\n",
    "#             raise ValueError(\"Must fit the models before transforming!\")\n",
    "#         clean_text = self.cleaning_function(text, self.tokenizer, self.stemmer)\n",
    "#         return self.vectorizer.transform(clean_text)\n",
    "    \n",
    "#     def save_pipe(self, filename):\n",
    "#         \"\"\"\n",
    "#         Writes the attributes of the pipeline to a file\n",
    "#         allowing a pipeline to be loaded later with the\n",
    "#         pre-trained pieces in place.\n",
    "#         \"\"\"\n",
    "#         if type(filename) != str:\n",
    "#             raise TypeError(\"filename must be a string\")\n",
    "#         pickle.dump(self.__dict__, open(filename+\".mdl\",'wb'))\n",
    "        \n",
    "#     def load_pipe(self, filename):\n",
    "#         \"\"\"\n",
    "#         Writes the attributes of the pipeline to a file\n",
    "#         allowing a pipeline to be loaded later with the\n",
    "#         pre-trained pieces in place.\n",
    "#         \"\"\"\n",
    "#         if type(filename) != str:\n",
    "#             raise TypeError(\"filename must be a string\")\n",
    "#         if filename[-4:] != '.mdl':\n",
    "#             filename += '.mdl'\n",
    "#         self.__dict__ = pickle.load(open(filename,'rb'))"
   ]
  },
  {
   "cell_type": "markdown",
   "metadata": {
    "hidden": true
   },
   "source": [
    "### NLP Functions"
   ]
  },
  {
   "cell_type": "markdown",
   "metadata": {},
   "source": [
    "## Get Review Text from MongoDB into Pandas DataFrame"
   ]
  },
  {
   "cell_type": "code",
   "execution_count": 19,
   "metadata": {
    "ExecuteTime": {
     "end_time": "2019-08-23T09:22:09.577199Z",
     "start_time": "2019-08-23T09:22:09.574952Z"
    }
   },
   "outputs": [],
   "source": [
    "# cursor = ta_obj.find({'helpful_vote' : '0'}, {'_id':0, 'review_body': 1}).limit(3)\n",
    "\n",
    "# list(cursor)"
   ]
  },
  {
   "cell_type": "code",
   "execution_count": 20,
   "metadata": {
    "ExecuteTime": {
     "end_time": "2019-08-23T09:22:11.356598Z",
     "start_time": "2019-08-23T09:22:09.578755Z"
    }
   },
   "outputs": [],
   "source": [
    "#When notebook runs initially\n",
    "ta_df = pd.DataFrame(list(ta_obj.find()))"
   ]
  },
  {
   "cell_type": "code",
   "execution_count": 21,
   "metadata": {
    "ExecuteTime": {
     "end_time": "2019-08-23T09:22:11.376239Z",
     "start_time": "2019-08-23T09:22:11.358527Z"
    },
    "scrolled": true
   },
   "outputs": [
    {
     "data": {
      "text/html": [
       "<div>\n",
       "<style scoped>\n",
       "    .dataframe tbody tr th:only-of-type {\n",
       "        vertical-align: middle;\n",
       "    }\n",
       "\n",
       "    .dataframe tbody tr th {\n",
       "        vertical-align: top;\n",
       "    }\n",
       "\n",
       "    .dataframe thead th {\n",
       "        text-align: right;\n",
       "    }\n",
       "</style>\n",
       "<table border=\"1\" class=\"dataframe\">\n",
       "  <thead>\n",
       "    <tr style=\"text-align: right;\">\n",
       "      <th></th>\n",
       "      <th>_id</th>\n",
       "      <th>helpful_vote</th>\n",
       "      <th>rating</th>\n",
       "      <th>review_body</th>\n",
       "      <th>review_date</th>\n",
       "    </tr>\n",
       "  </thead>\n",
       "  <tbody>\n",
       "    <tr>\n",
       "      <th>0</th>\n",
       "      <td>5d5d83cac56427b284d5398f</td>\n",
       "      <td>23</td>\n",
       "      <td>50</td>\n",
       "      <td>One of best and most reasonably priced places ...</td>\n",
       "      <td>August 13, 2019</td>\n",
       "    </tr>\n",
       "    <tr>\n",
       "      <th>1</th>\n",
       "      <td>5d5d83cac56427b284d53990</td>\n",
       "      <td>38</td>\n",
       "      <td>50</td>\n",
       "      <td>We spent 3 nights at the hotel- it was really ...</td>\n",
       "      <td>July 7, 2019</td>\n",
       "    </tr>\n",
       "    <tr>\n",
       "      <th>2</th>\n",
       "      <td>5d5d83cac56427b284d53991</td>\n",
       "      <td>4</td>\n",
       "      <td>40</td>\n",
       "      <td>While there were a few bumps, this is a lovely...</td>\n",
       "      <td>August 11, 2019</td>\n",
       "    </tr>\n",
       "    <tr>\n",
       "      <th>3</th>\n",
       "      <td>5d5d83cac56427b284d53992</td>\n",
       "      <td>27</td>\n",
       "      <td>40</td>\n",
       "      <td>Very pleased with front desk staff and Geoff (...</td>\n",
       "      <td>August 11, 2019</td>\n",
       "    </tr>\n",
       "    <tr>\n",
       "      <th>4</th>\n",
       "      <td>5d5d83cac56427b284d53993</td>\n",
       "      <td>1</td>\n",
       "      <td>50</td>\n",
       "      <td>Nita Lake Lodge is a wonderful choice if you a...</td>\n",
       "      <td>August 10, 2019</td>\n",
       "    </tr>\n",
       "    <tr>\n",
       "      <th>5</th>\n",
       "      <td>5d5d83cac56427b284d53994</td>\n",
       "      <td>0</td>\n",
       "      <td>50</td>\n",
       "      <td>We had a wonderful stay at Nita Lake Lodge. Ou...</td>\n",
       "      <td>August 10, 2019</td>\n",
       "    </tr>\n",
       "    <tr>\n",
       "      <th>6</th>\n",
       "      <td>5d5d83cac56427b284d53995</td>\n",
       "      <td>2</td>\n",
       "      <td>50</td>\n",
       "      <td>Everything about staying here was excellent. F...</td>\n",
       "      <td>August 7, 2019</td>\n",
       "    </tr>\n",
       "    <tr>\n",
       "      <th>7</th>\n",
       "      <td>5d5d83cac56427b284d53996</td>\n",
       "      <td>1</td>\n",
       "      <td>50</td>\n",
       "      <td>This is by far my home away from home! Never d...</td>\n",
       "      <td>August 2, 2019</td>\n",
       "    </tr>\n",
       "    <tr>\n",
       "      <th>8</th>\n",
       "      <td>5d5d83cac56427b284d53997</td>\n",
       "      <td>0</td>\n",
       "      <td>50</td>\n",
       "      <td>We spent three nights at the lodge for a work-...</td>\n",
       "      <td>July 31, 2019</td>\n",
       "    </tr>\n",
       "    <tr>\n",
       "      <th>9</th>\n",
       "      <td>5d5d83cac56427b284d53998</td>\n",
       "      <td>3</td>\n",
       "      <td>50</td>\n",
       "      <td>This review is long overdue. We visited the lo...</td>\n",
       "      <td>July 30, 2019</td>\n",
       "    </tr>\n",
       "    <tr>\n",
       "      <th>10</th>\n",
       "      <td>5d5d83cac56427b284d53999</td>\n",
       "      <td>3</td>\n",
       "      <td>50</td>\n",
       "      <td>Just returned from a fantastic week long stay ...</td>\n",
       "      <td>July 28, 2019</td>\n",
       "    </tr>\n",
       "    <tr>\n",
       "      <th>11</th>\n",
       "      <td>5d5d83cac56427b284d5399a</td>\n",
       "      <td>0</td>\n",
       "      <td>50</td>\n",
       "      <td>Very nice and luxury lodge with great view on ...</td>\n",
       "      <td>July 28, 2019</td>\n",
       "    </tr>\n",
       "    <tr>\n",
       "      <th>12</th>\n",
       "      <td>5d5d83cac56427b284d5399b</td>\n",
       "      <td>9</td>\n",
       "      <td>50</td>\n",
       "      <td>This place is beautiful! Fabulous staff. Room ...</td>\n",
       "      <td>July 27, 2019</td>\n",
       "    </tr>\n",
       "    <tr>\n",
       "      <th>13</th>\n",
       "      <td>5d5d83cac56427b284d5399c</td>\n",
       "      <td>0</td>\n",
       "      <td>50</td>\n",
       "      <td>Nita Lake Lodge at Whistler is a top notch acc...</td>\n",
       "      <td>July 27, 2019</td>\n",
       "    </tr>\n",
       "    <tr>\n",
       "      <th>14</th>\n",
       "      <td>5d5d83cac56427b284d5399d</td>\n",
       "      <td>59</td>\n",
       "      <td>50</td>\n",
       "      <td>My husband I stayed here recently to celebrate...</td>\n",
       "      <td>July 23, 2019</td>\n",
       "    </tr>\n",
       "  </tbody>\n",
       "</table>\n",
       "</div>"
      ],
      "text/plain": [
       "                         _id helpful_vote rating  \\\n",
       "0   5d5d83cac56427b284d5398f           23     50   \n",
       "1   5d5d83cac56427b284d53990           38     50   \n",
       "2   5d5d83cac56427b284d53991            4     40   \n",
       "3   5d5d83cac56427b284d53992           27     40   \n",
       "4   5d5d83cac56427b284d53993            1     50   \n",
       "5   5d5d83cac56427b284d53994            0     50   \n",
       "6   5d5d83cac56427b284d53995            2     50   \n",
       "7   5d5d83cac56427b284d53996            1     50   \n",
       "8   5d5d83cac56427b284d53997            0     50   \n",
       "9   5d5d83cac56427b284d53998            3     50   \n",
       "10  5d5d83cac56427b284d53999            3     50   \n",
       "11  5d5d83cac56427b284d5399a            0     50   \n",
       "12  5d5d83cac56427b284d5399b            9     50   \n",
       "13  5d5d83cac56427b284d5399c            0     50   \n",
       "14  5d5d83cac56427b284d5399d           59     50   \n",
       "\n",
       "                                          review_body      review_date  \n",
       "0   One of best and most reasonably priced places ...  August 13, 2019  \n",
       "1   We spent 3 nights at the hotel- it was really ...     July 7, 2019  \n",
       "2   While there were a few bumps, this is a lovely...  August 11, 2019  \n",
       "3   Very pleased with front desk staff and Geoff (...  August 11, 2019  \n",
       "4   Nita Lake Lodge is a wonderful choice if you a...  August 10, 2019  \n",
       "5   We had a wonderful stay at Nita Lake Lodge. Ou...  August 10, 2019  \n",
       "6   Everything about staying here was excellent. F...   August 7, 2019  \n",
       "7   This is by far my home away from home! Never d...   August 2, 2019  \n",
       "8   We spent three nights at the lodge for a work-...    July 31, 2019  \n",
       "9   This review is long overdue. We visited the lo...    July 30, 2019  \n",
       "10  Just returned from a fantastic week long stay ...    July 28, 2019  \n",
       "11  Very nice and luxury lodge with great view on ...    July 28, 2019  \n",
       "12  This place is beautiful! Fabulous staff. Room ...    July 27, 2019  \n",
       "13  Nita Lake Lodge at Whistler is a top notch acc...    July 27, 2019  \n",
       "14  My husband I stayed here recently to celebrate...    July 23, 2019  "
      ]
     },
     "execution_count": 21,
     "metadata": {},
     "output_type": "execute_result"
    }
   ],
   "source": [
    "#When notebook runs initially\n",
    "ta_df.head(15)"
   ]
  },
  {
   "cell_type": "code",
   "execution_count": 22,
   "metadata": {
    "ExecuteTime": {
     "end_time": "2019-08-23T09:22:11.383003Z",
     "start_time": "2019-08-23T09:22:11.380109Z"
    }
   },
   "outputs": [],
   "source": [
    "# reviews = ta_df[['_id','review_body']]\n",
    "# reviews.head()"
   ]
  },
  {
   "cell_type": "markdown",
   "metadata": {},
   "source": [
    "## Old Preprocessing"
   ]
  },
  {
   "cell_type": "markdown",
   "metadata": {},
   "source": [
    "### Remove Punctuation"
   ]
  },
  {
   "cell_type": "code",
   "execution_count": 23,
   "metadata": {
    "ExecuteTime": {
     "end_time": "2019-08-23T09:22:11.390277Z",
     "start_time": "2019-08-23T09:22:11.388460Z"
    }
   },
   "outputs": [],
   "source": [
    "# # Replace punctuations with a white space\n",
    "# reviews['review_body'] = reviews['review_body'].str.replace('[^\\w\\s]','')"
   ]
  },
  {
   "cell_type": "markdown",
   "metadata": {},
   "source": [
    "### Make all text lowercase"
   ]
  },
  {
   "cell_type": "code",
   "execution_count": 24,
   "metadata": {
    "ExecuteTime": {
     "end_time": "2019-08-23T09:22:11.395405Z",
     "start_time": "2019-08-23T09:22:11.393165Z"
    }
   },
   "outputs": [],
   "source": [
    "# reviews['review_body'] = reviews['review_body'].str.lower()"
   ]
  },
  {
   "cell_type": "markdown",
   "metadata": {},
   "source": [
    "### Remove Numbers"
   ]
  },
  {
   "cell_type": "code",
   "execution_count": 25,
   "metadata": {
    "ExecuteTime": {
     "end_time": "2019-08-23T09:22:11.399138Z",
     "start_time": "2019-08-23T09:22:11.397174Z"
    }
   },
   "outputs": [],
   "source": [
    "# reviews['review_body'].str.replace('\\w*\\d\\w*','')"
   ]
  },
  {
   "cell_type": "markdown",
   "metadata": {},
   "source": [
    "### Remove non-English"
   ]
  },
  {
   "cell_type": "code",
   "execution_count": 26,
   "metadata": {
    "ExecuteTime": {
     "end_time": "2019-08-23T09:22:11.403470Z",
     "start_time": "2019-08-23T09:22:11.400983Z"
    }
   },
   "outputs": [],
   "source": [
    "# words = set(nltk.corpus.words.words())"
   ]
  },
  {
   "cell_type": "code",
   "execution_count": 27,
   "metadata": {
    "ExecuteTime": {
     "end_time": "2019-08-23T09:22:11.407289Z",
     "start_time": "2019-08-23T09:22:11.404932Z"
    }
   },
   "outputs": [],
   "source": [
    "# reviews['review_body'] = reviews['review_body'].str.replace('[^A-Za-z0-9]', ' ')"
   ]
  },
  {
   "cell_type": "markdown",
   "metadata": {},
   "source": [
    "### Remove Hotel Name"
   ]
  },
  {
   "cell_type": "code",
   "execution_count": 28,
   "metadata": {
    "ExecuteTime": {
     "end_time": "2019-08-23T09:22:11.410665Z",
     "start_time": "2019-08-23T09:22:11.408787Z"
    }
   },
   "outputs": [],
   "source": [
    "# reviews['review_body'] = reviews['review_body'].str.replace('nita lake lodge', ' ')"
   ]
  },
  {
   "cell_type": "code",
   "execution_count": 29,
   "metadata": {
    "ExecuteTime": {
     "end_time": "2019-08-23T09:22:11.414109Z",
     "start_time": "2019-08-23T09:22:11.412180Z"
    }
   },
   "outputs": [],
   "source": [
    "# reviews.head()"
   ]
  },
  {
   "cell_type": "markdown",
   "metadata": {},
   "source": [
    "### Remove unhelpful words"
   ]
  },
  {
   "cell_type": "code",
   "execution_count": 30,
   "metadata": {
    "ExecuteTime": {
     "end_time": "2019-08-23T09:22:11.418120Z",
     "start_time": "2019-08-23T09:22:11.415766Z"
    }
   },
   "outputs": [],
   "source": [
    "# remove_words = ['nita']"
   ]
  },
  {
   "cell_type": "code",
   "execution_count": 31,
   "metadata": {
    "ExecuteTime": {
     "end_time": "2019-08-23T09:22:11.422974Z",
     "start_time": "2019-08-23T09:22:11.420453Z"
    }
   },
   "outputs": [],
   "source": [
    "# remove_words = [\n",
    "#     'nice', 'didnt', 'did'\n",
    "#     ,'great', 'really', 'like'\n",
    "#     ,'good', 'lovely', 'beautiful'\n",
    "#     ,'just', 'right', 'like'\n",
    "#     ,'hotel', 'amazing', 'excellent'\n",
    "#     ,'little', 'nita'\n",
    "# ]"
   ]
  },
  {
   "cell_type": "code",
   "execution_count": 32,
   "metadata": {
    "ExecuteTime": {
     "end_time": "2019-08-23T09:22:11.427196Z",
     "start_time": "2019-08-23T09:22:11.425012Z"
    }
   },
   "outputs": [],
   "source": [
    "\n",
    "# reviews['review_body'] = reviews['review_body'].apply(lambda x: ' '.join([word for word in x.split() if word not in (remove_words)]))\n",
    "\n"
   ]
  },
  {
   "cell_type": "code",
   "execution_count": 33,
   "metadata": {
    "ExecuteTime": {
     "end_time": "2019-08-23T09:22:11.431967Z",
     "start_time": "2019-08-23T09:22:11.429395Z"
    }
   },
   "outputs": [],
   "source": [
    "# reviews.head()"
   ]
  },
  {
   "cell_type": "markdown",
   "metadata": {},
   "source": [
    "### Stemmer"
   ]
  },
  {
   "cell_type": "code",
   "execution_count": 34,
   "metadata": {
    "ExecuteTime": {
     "end_time": "2019-08-23T09:22:11.435417Z",
     "start_time": "2019-08-23T09:22:11.433444Z"
    }
   },
   "outputs": [],
   "source": [
    "# stemmer = PorterStemmer()"
   ]
  },
  {
   "cell_type": "code",
   "execution_count": 35,
   "metadata": {
    "ExecuteTime": {
     "end_time": "2019-08-23T09:22:11.439517Z",
     "start_time": "2019-08-23T09:22:11.437178Z"
    }
   },
   "outputs": [],
   "source": [
    "# reviews['review_body'] = reviews['review_body'].apply(lambda x: ' '.join([stemmer.stem(word) for word in x.split()]))"
   ]
  },
  {
   "cell_type": "markdown",
   "metadata": {},
   "source": [
    "### Tokenization (Words)"
   ]
  },
  {
   "cell_type": "code",
   "execution_count": 36,
   "metadata": {
    "ExecuteTime": {
     "end_time": "2019-08-23T09:22:11.443271Z",
     "start_time": "2019-08-23T09:22:11.441102Z"
    }
   },
   "outputs": [],
   "source": [
    "# reviews['review_body'] = reviews['review_body'].apply(word_tokenize)"
   ]
  },
  {
   "cell_type": "code",
   "execution_count": 37,
   "metadata": {
    "ExecuteTime": {
     "end_time": "2019-08-23T09:22:11.446689Z",
     "start_time": "2019-08-23T09:22:11.444744Z"
    }
   },
   "outputs": [],
   "source": [
    "# reviews.head()"
   ]
  },
  {
   "cell_type": "markdown",
   "metadata": {},
   "source": [
    "### Vectorization with Count Vectorizer"
   ]
  },
  {
   "cell_type": "code",
   "execution_count": 38,
   "metadata": {
    "ExecuteTime": {
     "end_time": "2019-08-23T09:22:11.450492Z",
     "start_time": "2019-08-23T09:22:11.448141Z"
    }
   },
   "outputs": [],
   "source": [
    "# cv = CountVectorizer(stop_words='english', ngram_range=(1,1), \n",
    "#                      max_df = 1.0, min_df = 1)\n",
    "\n",
    "# X1 = cv.fit_transform(reviews['review_body'])\n",
    "# temp = pd.DataFrame(X1.toarray(), columns=cv.get_feature_names())\n",
    "\n",
    "# type(X1)\n",
    "\n",
    "\n",
    "# count_vec = pd.concat([reviews, temp], axis = 1)\n",
    "\n",
    "# count_vec.set_index('_id', inplace = True)\n",
    "\n",
    "# count_vec.head()"
   ]
  },
  {
   "cell_type": "markdown",
   "metadata": {},
   "source": [
    "### Vectorization with TF-IDF"
   ]
  },
  {
   "cell_type": "code",
   "execution_count": 39,
   "metadata": {
    "ExecuteTime": {
     "end_time": "2019-08-23T09:22:11.454531Z",
     "start_time": "2019-08-23T09:22:11.452002Z"
    }
   },
   "outputs": [],
   "source": [
    "# tfidf1 = TfidfVectorizer(stop_words='english', ngram_range=(2, 3)\n",
    "#                         , max_df = 1.0, min_df = 0.01)\n",
    "# X2 = tfidf1.fit_transform(reviews['review_body'])\n",
    "\n",
    "# temp2 = pd.DataFrame(X2.toarray(), columns=tfidf1.get_feature_names())\n",
    "# temp2.head()\n",
    "\n",
    "# tf_idf = pd.concat([reviews, temp2], axis = 1)\n",
    "# tf_idf.set_index('_id', inplace = True)\n",
    "# tf_idf.head()"
   ]
  },
  {
   "cell_type": "markdown",
   "metadata": {
    "heading_collapsed": true
   },
   "source": [
    "## K-Means Clustering"
   ]
  },
  {
   "cell_type": "code",
   "execution_count": 40,
   "metadata": {
    "ExecuteTime": {
     "end_time": "2019-08-23T09:22:11.459105Z",
     "start_time": "2019-08-23T09:22:11.456565Z"
    },
    "hidden": true
   },
   "outputs": [],
   "source": [
    "# inertia = []\n",
    "# list_num_clusters = list(range(1,7))\n",
    "# for num_clusters in list_num_clusters:\n",
    "#     km = KMeans(n_clusters=num_clusters)\n",
    "#     km.fit(X1)\n",
    "#     inertia.append(km.inertia_)\n",
    "    \n",
    "# plt.plot(list_num_clusters,inertia)\n",
    "# plt.scatter(list_num_clusters,inertia)\n",
    "# plt.xlabel('Number of Clusters')\n",
    "# plt.ylabel('Inertia');"
   ]
  },
  {
   "cell_type": "markdown",
   "metadata": {},
   "source": [
    "## Preprocessing with Spacy"
   ]
  },
  {
   "cell_type": "markdown",
   "metadata": {},
   "source": [
    "### Spacy Setup"
   ]
  },
  {
   "cell_type": "code",
   "execution_count": 41,
   "metadata": {
    "ExecuteTime": {
     "end_time": "2019-08-23T09:22:12.055496Z",
     "start_time": "2019-08-23T09:22:11.461064Z"
    }
   },
   "outputs": [],
   "source": [
    "import spacy #load spacy\n",
    "nlp = spacy.load(\"en\", disable=['parser', 'tagger', 'ner'])\n",
    "\n",
    "spacy_stopwords = spacy.lang.en.stop_words.STOP_WORDS\n",
    "nltk_stopwords = nltk.corpus.stopwords.words('english')"
   ]
  },
  {
   "cell_type": "code",
   "execution_count": 42,
   "metadata": {
    "ExecuteTime": {
     "end_time": "2019-08-23T09:22:12.061170Z",
     "start_time": "2019-08-23T09:22:12.057384Z"
    }
   },
   "outputs": [],
   "source": [
    "def normalize(comment, lowercase, remove_stopwords):\n",
    "    if lowercase:\n",
    "        comment = comment.lower()\n",
    "    comment = nlp(comment)\n",
    "    lemmatized = list()\n",
    "    for word in comment:\n",
    "        lemma = word.lemma_.strip()\n",
    "        if lemma:\n",
    "            if not remove_stopwords or (remove_stopwords and lemma not in spacy_stopwords):\n",
    "                lemmatized.append(lemma)\n",
    "    return \" \".join(lemmatized)"
   ]
  },
  {
   "cell_type": "code",
   "execution_count": 43,
   "metadata": {
    "ExecuteTime": {
     "end_time": "2019-08-23T09:22:12.074816Z",
     "start_time": "2019-08-23T09:22:12.062913Z"
    }
   },
   "outputs": [
    {
     "data": {
      "text/html": [
       "<div>\n",
       "<style scoped>\n",
       "    .dataframe tbody tr th:only-of-type {\n",
       "        vertical-align: middle;\n",
       "    }\n",
       "\n",
       "    .dataframe tbody tr th {\n",
       "        vertical-align: top;\n",
       "    }\n",
       "\n",
       "    .dataframe thead th {\n",
       "        text-align: right;\n",
       "    }\n",
       "</style>\n",
       "<table border=\"1\" class=\"dataframe\">\n",
       "  <thead>\n",
       "    <tr style=\"text-align: right;\">\n",
       "      <th></th>\n",
       "      <th>_id</th>\n",
       "      <th>review_body</th>\n",
       "    </tr>\n",
       "  </thead>\n",
       "  <tbody>\n",
       "    <tr>\n",
       "      <th>0</th>\n",
       "      <td>5d5d83cac56427b284d5398f</td>\n",
       "      <td>One of best and most reasonably priced places ...</td>\n",
       "    </tr>\n",
       "    <tr>\n",
       "      <th>1</th>\n",
       "      <td>5d5d83cac56427b284d53990</td>\n",
       "      <td>We spent 3 nights at the hotel- it was really ...</td>\n",
       "    </tr>\n",
       "    <tr>\n",
       "      <th>2</th>\n",
       "      <td>5d5d83cac56427b284d53991</td>\n",
       "      <td>While there were a few bumps, this is a lovely...</td>\n",
       "    </tr>\n",
       "    <tr>\n",
       "      <th>3</th>\n",
       "      <td>5d5d83cac56427b284d53992</td>\n",
       "      <td>Very pleased with front desk staff and Geoff (...</td>\n",
       "    </tr>\n",
       "    <tr>\n",
       "      <th>4</th>\n",
       "      <td>5d5d83cac56427b284d53993</td>\n",
       "      <td>Nita Lake Lodge is a wonderful choice if you a...</td>\n",
       "    </tr>\n",
       "  </tbody>\n",
       "</table>\n",
       "</div>"
      ],
      "text/plain": [
       "                        _id                                        review_body\n",
       "0  5d5d83cac56427b284d5398f  One of best and most reasonably priced places ...\n",
       "1  5d5d83cac56427b284d53990  We spent 3 nights at the hotel- it was really ...\n",
       "2  5d5d83cac56427b284d53991  While there were a few bumps, this is a lovely...\n",
       "3  5d5d83cac56427b284d53992  Very pleased with front desk staff and Geoff (...\n",
       "4  5d5d83cac56427b284d53993  Nita Lake Lodge is a wonderful choice if you a..."
      ]
     },
     "execution_count": 43,
     "metadata": {},
     "output_type": "execute_result"
    }
   ],
   "source": [
    "reviews_spacy = ta_df[['_id','review_body']]\n",
    "reviews_spacy.head()"
   ]
  },
  {
   "cell_type": "markdown",
   "metadata": {
    "ExecuteTime": {
     "end_time": "2019-08-22T22:49:16.229198Z",
     "start_time": "2019-08-22T22:49:16.227017Z"
    }
   },
   "source": [
    "### Remove Hotel Name, Make Lowercase"
   ]
  },
  {
   "cell_type": "code",
   "execution_count": 44,
   "metadata": {
    "ExecuteTime": {
     "end_time": "2019-08-23T09:22:12.192080Z",
     "start_time": "2019-08-23T09:22:12.076536Z"
    }
   },
   "outputs": [
    {
     "name": "stderr",
     "output_type": "stream",
     "text": [
      "/Users/farsyd/anaconda3/envs/metis/lib/python3.6/site-packages/ipykernel_launcher.py:3: SettingWithCopyWarning: \n",
      "A value is trying to be set on a copy of a slice from a DataFrame.\n",
      "Try using .loc[row_indexer,col_indexer] = value instead\n",
      "\n",
      "See the caveats in the documentation: http://pandas.pydata.org/pandas-docs/stable/indexing.html#indexing-view-versus-copy\n",
      "  This is separate from the ipykernel package so we can avoid doing imports until\n",
      "/Users/farsyd/anaconda3/envs/metis/lib/python3.6/site-packages/ipykernel_launcher.py:4: SettingWithCopyWarning: \n",
      "A value is trying to be set on a copy of a slice from a DataFrame.\n",
      "Try using .loc[row_indexer,col_indexer] = value instead\n",
      "\n",
      "See the caveats in the documentation: http://pandas.pydata.org/pandas-docs/stable/indexing.html#indexing-view-versus-copy\n",
      "  after removing the cwd from sys.path.\n"
     ]
    },
    {
     "data": {
      "text/html": [
       "<div>\n",
       "<style scoped>\n",
       "    .dataframe tbody tr th:only-of-type {\n",
       "        vertical-align: middle;\n",
       "    }\n",
       "\n",
       "    .dataframe tbody tr th {\n",
       "        vertical-align: top;\n",
       "    }\n",
       "\n",
       "    .dataframe thead th {\n",
       "        text-align: right;\n",
       "    }\n",
       "</style>\n",
       "<table border=\"1\" class=\"dataframe\">\n",
       "  <thead>\n",
       "    <tr style=\"text-align: right;\">\n",
       "      <th></th>\n",
       "      <th>_id</th>\n",
       "      <th>review_body</th>\n",
       "    </tr>\n",
       "  </thead>\n",
       "  <tbody>\n",
       "    <tr>\n",
       "      <th>0</th>\n",
       "      <td>5d5d83cac56427b284d5398f</td>\n",
       "      <td>one of best and most reasonably priced places ...</td>\n",
       "    </tr>\n",
       "    <tr>\n",
       "      <th>1</th>\n",
       "      <td>5d5d83cac56427b284d53990</td>\n",
       "      <td>we spent 3 nights at the hotel- it was really ...</td>\n",
       "    </tr>\n",
       "    <tr>\n",
       "      <th>2</th>\n",
       "      <td>5d5d83cac56427b284d53991</td>\n",
       "      <td>while there were a few bumps, this is a lovely...</td>\n",
       "    </tr>\n",
       "    <tr>\n",
       "      <th>3</th>\n",
       "      <td>5d5d83cac56427b284d53992</td>\n",
       "      <td>very pleased with front desk staff and geoff (...</td>\n",
       "    </tr>\n",
       "    <tr>\n",
       "      <th>4</th>\n",
       "      <td>5d5d83cac56427b284d53993</td>\n",
       "      <td>is a wonderful choice if you are looking to ...</td>\n",
       "    </tr>\n",
       "  </tbody>\n",
       "</table>\n",
       "</div>"
      ],
      "text/plain": [
       "                        _id                                        review_body\n",
       "0  5d5d83cac56427b284d5398f  one of best and most reasonably priced places ...\n",
       "1  5d5d83cac56427b284d53990  we spent 3 nights at the hotel- it was really ...\n",
       "2  5d5d83cac56427b284d53991  while there were a few bumps, this is a lovely...\n",
       "3  5d5d83cac56427b284d53992  very pleased with front desk staff and geoff (...\n",
       "4  5d5d83cac56427b284d53993    is a wonderful choice if you are looking to ..."
      ]
     },
     "execution_count": 44,
     "metadata": {},
     "output_type": "execute_result"
    }
   ],
   "source": [
    "# Remove Hotel Name\n",
    "# Need to make lowercase otherwise hotel name in caps is not removed. Ugghhh!!\n",
    "reviews_spacy['review_body'] = reviews_spacy['review_body'].str.lower()\n",
    "reviews_spacy['review_body'] = reviews_spacy['review_body'].str.replace('nita lake lodge', ' ')\n",
    "reviews_spacy.head()"
   ]
  },
  {
   "cell_type": "markdown",
   "metadata": {},
   "source": [
    "### Remove Punctuation"
   ]
  },
  {
   "cell_type": "code",
   "execution_count": 45,
   "metadata": {
    "ExecuteTime": {
     "end_time": "2019-08-23T09:22:12.289188Z",
     "start_time": "2019-08-23T09:22:12.193608Z"
    }
   },
   "outputs": [
    {
     "name": "stderr",
     "output_type": "stream",
     "text": [
      "/Users/farsyd/anaconda3/envs/metis/lib/python3.6/site-packages/ipykernel_launcher.py:2: SettingWithCopyWarning: \n",
      "A value is trying to be set on a copy of a slice from a DataFrame.\n",
      "Try using .loc[row_indexer,col_indexer] = value instead\n",
      "\n",
      "See the caveats in the documentation: http://pandas.pydata.org/pandas-docs/stable/indexing.html#indexing-view-versus-copy\n",
      "  \n"
     ]
    },
    {
     "data": {
      "text/html": [
       "<div>\n",
       "<style scoped>\n",
       "    .dataframe tbody tr th:only-of-type {\n",
       "        vertical-align: middle;\n",
       "    }\n",
       "\n",
       "    .dataframe tbody tr th {\n",
       "        vertical-align: top;\n",
       "    }\n",
       "\n",
       "    .dataframe thead th {\n",
       "        text-align: right;\n",
       "    }\n",
       "</style>\n",
       "<table border=\"1\" class=\"dataframe\">\n",
       "  <thead>\n",
       "    <tr style=\"text-align: right;\">\n",
       "      <th></th>\n",
       "      <th>_id</th>\n",
       "      <th>review_body</th>\n",
       "    </tr>\n",
       "  </thead>\n",
       "  <tbody>\n",
       "    <tr>\n",
       "      <th>0</th>\n",
       "      <td>5d5d83cac56427b284d5398f</td>\n",
       "      <td>one of best and most reasonably priced places ...</td>\n",
       "    </tr>\n",
       "    <tr>\n",
       "      <th>1</th>\n",
       "      <td>5d5d83cac56427b284d53990</td>\n",
       "      <td>we spent 3 nights at the hotel it was really e...</td>\n",
       "    </tr>\n",
       "    <tr>\n",
       "      <th>2</th>\n",
       "      <td>5d5d83cac56427b284d53991</td>\n",
       "      <td>while there were a few bumps this is a lovely ...</td>\n",
       "    </tr>\n",
       "    <tr>\n",
       "      <th>3</th>\n",
       "      <td>5d5d83cac56427b284d53992</td>\n",
       "      <td>very pleased with front desk staff and geoff a...</td>\n",
       "    </tr>\n",
       "    <tr>\n",
       "      <th>4</th>\n",
       "      <td>5d5d83cac56427b284d53993</td>\n",
       "      <td>is a wonderful choice if you are looking to ...</td>\n",
       "    </tr>\n",
       "  </tbody>\n",
       "</table>\n",
       "</div>"
      ],
      "text/plain": [
       "                        _id                                        review_body\n",
       "0  5d5d83cac56427b284d5398f  one of best and most reasonably priced places ...\n",
       "1  5d5d83cac56427b284d53990  we spent 3 nights at the hotel it was really e...\n",
       "2  5d5d83cac56427b284d53991  while there were a few bumps this is a lovely ...\n",
       "3  5d5d83cac56427b284d53992  very pleased with front desk staff and geoff a...\n",
       "4  5d5d83cac56427b284d53993    is a wonderful choice if you are looking to ..."
      ]
     },
     "execution_count": 45,
     "metadata": {},
     "output_type": "execute_result"
    }
   ],
   "source": [
    "# Replace punctuations with a white space\n",
    "reviews_spacy['review_body'] = reviews_spacy['review_body'].str.replace('[^\\w\\s]','')\n",
    "reviews_spacy.head()"
   ]
  },
  {
   "cell_type": "markdown",
   "metadata": {},
   "source": [
    "### Running Spacy"
   ]
  },
  {
   "cell_type": "code",
   "execution_count": 46,
   "metadata": {
    "ExecuteTime": {
     "end_time": "2019-08-23T09:22:13.665197Z",
     "start_time": "2019-08-23T09:22:12.290749Z"
    },
    "scrolled": true
   },
   "outputs": [
    {
     "name": "stderr",
     "output_type": "stream",
     "text": [
      "/Users/farsyd/anaconda3/envs/metis/lib/python3.6/site-packages/ipykernel_launcher.py:1: SettingWithCopyWarning: \n",
      "A value is trying to be set on a copy of a slice from a DataFrame.\n",
      "Try using .loc[row_indexer,col_indexer] = value instead\n",
      "\n",
      "See the caveats in the documentation: http://pandas.pydata.org/pandas-docs/stable/indexing.html#indexing-view-versus-copy\n",
      "  \"\"\"Entry point for launching an IPython kernel.\n"
     ]
    },
    {
     "data": {
      "text/html": [
       "<div>\n",
       "<style scoped>\n",
       "    .dataframe tbody tr th:only-of-type {\n",
       "        vertical-align: middle;\n",
       "    }\n",
       "\n",
       "    .dataframe tbody tr th {\n",
       "        vertical-align: top;\n",
       "    }\n",
       "\n",
       "    .dataframe thead th {\n",
       "        text-align: right;\n",
       "    }\n",
       "</style>\n",
       "<table border=\"1\" class=\"dataframe\">\n",
       "  <thead>\n",
       "    <tr style=\"text-align: right;\">\n",
       "      <th></th>\n",
       "      <th>_id</th>\n",
       "      <th>review_body</th>\n",
       "      <th>After_Clean</th>\n",
       "    </tr>\n",
       "  </thead>\n",
       "  <tbody>\n",
       "    <tr>\n",
       "      <th>0</th>\n",
       "      <td>5d5d83cac56427b284d5398f</td>\n",
       "      <td>one of best and most reasonably priced places ...</td>\n",
       "      <td>reasonably price place stay canada amaze servi...</td>\n",
       "    </tr>\n",
       "    <tr>\n",
       "      <th>1</th>\n",
       "      <td>5d5d83cac56427b284d53990</td>\n",
       "      <td>we spent 3 nights at the hotel it was really e...</td>\n",
       "      <td>spend 3 night hotel enjoyable impress location...</td>\n",
       "    </tr>\n",
       "    <tr>\n",
       "      <th>2</th>\n",
       "      <td>5d5d83cac56427b284d53991</td>\n",
       "      <td>while there were a few bumps this is a lovely ...</td>\n",
       "      <td>bump lovely property early tell -PRON- room re...</td>\n",
       "    </tr>\n",
       "    <tr>\n",
       "      <th>3</th>\n",
       "      <td>5d5d83cac56427b284d53992</td>\n",
       "      <td>very pleased with front desk staff and geoff a...</td>\n",
       "      <td>desk staff geoff australian look bike kayak ge...</td>\n",
       "    </tr>\n",
       "    <tr>\n",
       "      <th>4</th>\n",
       "      <td>5d5d83cac56427b284d53993</td>\n",
       "      <td>is a wonderful choice if you are looking to ...</td>\n",
       "      <td>wonderful choice look away beautiful surroundi...</td>\n",
       "    </tr>\n",
       "  </tbody>\n",
       "</table>\n",
       "</div>"
      ],
      "text/plain": [
       "                        _id  \\\n",
       "0  5d5d83cac56427b284d5398f   \n",
       "1  5d5d83cac56427b284d53990   \n",
       "2  5d5d83cac56427b284d53991   \n",
       "3  5d5d83cac56427b284d53992   \n",
       "4  5d5d83cac56427b284d53993   \n",
       "\n",
       "                                         review_body  \\\n",
       "0  one of best and most reasonably priced places ...   \n",
       "1  we spent 3 nights at the hotel it was really e...   \n",
       "2  while there were a few bumps this is a lovely ...   \n",
       "3  very pleased with front desk staff and geoff a...   \n",
       "4    is a wonderful choice if you are looking to ...   \n",
       "\n",
       "                                         After_Clean  \n",
       "0  reasonably price place stay canada amaze servi...  \n",
       "1  spend 3 night hotel enjoyable impress location...  \n",
       "2  bump lovely property early tell -PRON- room re...  \n",
       "3  desk staff geoff australian look bike kayak ge...  \n",
       "4  wonderful choice look away beautiful surroundi...  "
      ]
     },
     "execution_count": 46,
     "metadata": {},
     "output_type": "execute_result"
    }
   ],
   "source": [
    "reviews_spacy['After_Clean'] = reviews_spacy['review_body'].apply(normalize, lowercase=True, remove_stopwords=True)\n",
    "reviews_spacy.head()"
   ]
  },
  {
   "cell_type": "code",
   "execution_count": 47,
   "metadata": {
    "ExecuteTime": {
     "end_time": "2019-08-23T09:22:13.678136Z",
     "start_time": "2019-08-23T09:22:13.667243Z"
    }
   },
   "outputs": [
    {
     "data": {
      "text/html": [
       "<div>\n",
       "<style scoped>\n",
       "    .dataframe tbody tr th:only-of-type {\n",
       "        vertical-align: middle;\n",
       "    }\n",
       "\n",
       "    .dataframe tbody tr th {\n",
       "        vertical-align: top;\n",
       "    }\n",
       "\n",
       "    .dataframe thead th {\n",
       "        text-align: right;\n",
       "    }\n",
       "</style>\n",
       "<table border=\"1\" class=\"dataframe\">\n",
       "  <thead>\n",
       "    <tr style=\"text-align: right;\">\n",
       "      <th></th>\n",
       "      <th>_id</th>\n",
       "      <th>After_Clean</th>\n",
       "    </tr>\n",
       "  </thead>\n",
       "  <tbody>\n",
       "    <tr>\n",
       "      <th>0</th>\n",
       "      <td>5d5d83cac56427b284d5398f</td>\n",
       "      <td>reasonably price place stay canada amaze servi...</td>\n",
       "    </tr>\n",
       "    <tr>\n",
       "      <th>1</th>\n",
       "      <td>5d5d83cac56427b284d53990</td>\n",
       "      <td>spend 3 night hotel enjoyable impress location...</td>\n",
       "    </tr>\n",
       "    <tr>\n",
       "      <th>2</th>\n",
       "      <td>5d5d83cac56427b284d53991</td>\n",
       "      <td>bump lovely property early tell -PRON- room re...</td>\n",
       "    </tr>\n",
       "    <tr>\n",
       "      <th>3</th>\n",
       "      <td>5d5d83cac56427b284d53992</td>\n",
       "      <td>desk staff geoff australian look bike kayak ge...</td>\n",
       "    </tr>\n",
       "    <tr>\n",
       "      <th>4</th>\n",
       "      <td>5d5d83cac56427b284d53993</td>\n",
       "      <td>wonderful choice look away beautiful surroundi...</td>\n",
       "    </tr>\n",
       "  </tbody>\n",
       "</table>\n",
       "</div>"
      ],
      "text/plain": [
       "                        _id                                        After_Clean\n",
       "0  5d5d83cac56427b284d5398f  reasonably price place stay canada amaze servi...\n",
       "1  5d5d83cac56427b284d53990  spend 3 night hotel enjoyable impress location...\n",
       "2  5d5d83cac56427b284d53991  bump lovely property early tell -PRON- room re...\n",
       "3  5d5d83cac56427b284d53992  desk staff geoff australian look bike kayak ge...\n",
       "4  5d5d83cac56427b284d53993  wonderful choice look away beautiful surroundi..."
      ]
     },
     "execution_count": 47,
     "metadata": {},
     "output_type": "execute_result"
    }
   ],
   "source": [
    "# Make Final DF\n",
    "spacy_final = reviews_spacy[[\"_id\", \"After_Clean\"]]\n",
    "spacy_final.head()"
   ]
  },
  {
   "cell_type": "markdown",
   "metadata": {},
   "source": [
    "### Removing Non-English Chars"
   ]
  },
  {
   "cell_type": "code",
   "execution_count": 48,
   "metadata": {
    "ExecuteTime": {
     "end_time": "2019-08-23T09:22:13.798524Z",
     "start_time": "2019-08-23T09:22:13.680297Z"
    }
   },
   "outputs": [
    {
     "name": "stderr",
     "output_type": "stream",
     "text": [
      "/Users/farsyd/anaconda3/envs/metis/lib/python3.6/site-packages/ipykernel_launcher.py:2: SettingWithCopyWarning: \n",
      "A value is trying to be set on a copy of a slice from a DataFrame.\n",
      "Try using .loc[row_indexer,col_indexer] = value instead\n",
      "\n",
      "See the caveats in the documentation: http://pandas.pydata.org/pandas-docs/stable/indexing.html#indexing-view-versus-copy\n",
      "  \n"
     ]
    }
   ],
   "source": [
    "# Remove Non English chars\n",
    "spacy_final['After_Clean'] = spacy_final['After_Clean'].str.replace('[^A-Za-z0-9]', ' ')"
   ]
  },
  {
   "cell_type": "markdown",
   "metadata": {},
   "source": [
    "### Remove Unhelpful Words"
   ]
  },
  {
   "cell_type": "code",
   "execution_count": 49,
   "metadata": {
    "ExecuteTime": {
     "end_time": "2019-08-23T09:22:13.803891Z",
     "start_time": "2019-08-23T09:22:13.800172Z"
    }
   },
   "outputs": [],
   "source": [
    "# remove_words = ['nita']\n",
    "\n",
    "remove_words = [\n",
    "    'nice', 'didnt', 'did'\n",
    "    ,'great', 'really', 'like'\n",
    "    ,'good', 'lovely', 'beautiful'\n",
    "    ,'just', 'right', 'like', 'PRON'\n",
    "    ,'hotel', 'amazing', 'excellent'\n",
    "    ,'little', 'nita', 'tell', 'come'\n",
    "]"
   ]
  },
  {
   "cell_type": "code",
   "execution_count": 50,
   "metadata": {
    "ExecuteTime": {
     "end_time": "2019-08-23T09:22:13.930209Z",
     "start_time": "2019-08-23T09:22:13.807235Z"
    }
   },
   "outputs": [
    {
     "name": "stderr",
     "output_type": "stream",
     "text": [
      "/Users/farsyd/anaconda3/envs/metis/lib/python3.6/site-packages/ipykernel_launcher.py:2: SettingWithCopyWarning: \n",
      "A value is trying to be set on a copy of a slice from a DataFrame.\n",
      "Try using .loc[row_indexer,col_indexer] = value instead\n",
      "\n",
      "See the caveats in the documentation: http://pandas.pydata.org/pandas-docs/stable/indexing.html#indexing-view-versus-copy\n",
      "  \n"
     ]
    },
    {
     "data": {
      "text/html": [
       "<div>\n",
       "<style scoped>\n",
       "    .dataframe tbody tr th:only-of-type {\n",
       "        vertical-align: middle;\n",
       "    }\n",
       "\n",
       "    .dataframe tbody tr th {\n",
       "        vertical-align: top;\n",
       "    }\n",
       "\n",
       "    .dataframe thead th {\n",
       "        text-align: right;\n",
       "    }\n",
       "</style>\n",
       "<table border=\"1\" class=\"dataframe\">\n",
       "  <thead>\n",
       "    <tr style=\"text-align: right;\">\n",
       "      <th></th>\n",
       "      <th>_id</th>\n",
       "      <th>After_Clean</th>\n",
       "    </tr>\n",
       "  </thead>\n",
       "  <tbody>\n",
       "    <tr>\n",
       "      <th>0</th>\n",
       "      <td>5d5d83cac56427b284d5398f</td>\n",
       "      <td>reasonably price place stay canada amaze servi...</td>\n",
       "    </tr>\n",
       "    <tr>\n",
       "      <th>1</th>\n",
       "      <td>5d5d83cac56427b284d53990</td>\n",
       "      <td>spend 3 night enjoyable impress location away ...</td>\n",
       "    </tr>\n",
       "    <tr>\n",
       "      <th>2</th>\n",
       "      <td>5d5d83cac56427b284d53991</td>\n",
       "      <td>bump property early room ready happen desk new...</td>\n",
       "    </tr>\n",
       "    <tr>\n",
       "      <th>3</th>\n",
       "      <td>5d5d83cac56427b284d53992</td>\n",
       "      <td>desk staff geoff australian look bike kayak ge...</td>\n",
       "    </tr>\n",
       "    <tr>\n",
       "      <th>4</th>\n",
       "      <td>5d5d83cac56427b284d53993</td>\n",
       "      <td>wonderful choice look away surrounding lodge s...</td>\n",
       "    </tr>\n",
       "    <tr>\n",
       "      <th>5</th>\n",
       "      <td>5d5d83cac56427b284d53994</td>\n",
       "      <td>wonderful stay room appoint view lake room cle...</td>\n",
       "    </tr>\n",
       "    <tr>\n",
       "      <th>6</th>\n",
       "      <td>5d5d83cac56427b284d53995</td>\n",
       "      <td>stay ease check walk lake suit large restauran...</td>\n",
       "    </tr>\n",
       "    <tr>\n",
       "      <th>7</th>\n",
       "      <td>5d5d83cac56427b284d53996</td>\n",
       "      <td>far home away home disappoint love perk drive ...</td>\n",
       "    </tr>\n",
       "    <tr>\n",
       "      <th>8</th>\n",
       "      <td>5d5d83cac56427b284d53997</td>\n",
       "      <td>spend night lodge workrelated event workshop r...</td>\n",
       "    </tr>\n",
       "    <tr>\n",
       "      <th>9</th>\n",
       "      <td>5d5d83cac56427b284d53998</td>\n",
       "      <td>review long overdue visit lodge couple year ag...</td>\n",
       "    </tr>\n",
       "    <tr>\n",
       "      <th>10</th>\n",
       "      <td>5d5d83cac56427b284d53999</td>\n",
       "      <td>return fantastic week long stay upmarket bouti...</td>\n",
       "    </tr>\n",
       "    <tr>\n",
       "      <th>11</th>\n",
       "      <td>5d5d83cac56427b284d5399a</td>\n",
       "      <td>luxury lodge view lake big room fireplace room...</td>\n",
       "    </tr>\n",
       "    <tr>\n",
       "      <th>12</th>\n",
       "      <td>5d5d83cac56427b284d5399b</td>\n",
       "      <td>place fabulous staff room spotlessly clean sup...</td>\n",
       "    </tr>\n",
       "    <tr>\n",
       "      <th>13</th>\n",
       "      <td>5d5d83cac56427b284d5399c</td>\n",
       "      <td>whistler notch accommodation 1 step guest serv...</td>\n",
       "    </tr>\n",
       "    <tr>\n",
       "      <th>14</th>\n",
       "      <td>5d5d83cac56427b284d5399d</td>\n",
       "      <td>husband stay recently celebrate 12th anniversa...</td>\n",
       "    </tr>\n",
       "    <tr>\n",
       "      <th>15</th>\n",
       "      <td>5d5d83cac56427b284d5399e</td>\n",
       "      <td>2 bedroom suite large spacious fabulous view l...</td>\n",
       "    </tr>\n",
       "    <tr>\n",
       "      <th>16</th>\n",
       "      <td>5d5d83cac56427b284d5399f</td>\n",
       "      <td>love staff friendly helpful madeyou feel impos...</td>\n",
       "    </tr>\n",
       "    <tr>\n",
       "      <th>17</th>\n",
       "      <td>5d5d83cac56427b284d539a0</td>\n",
       "      <td>wonderful whistler vacation description rustic...</td>\n",
       "    </tr>\n",
       "    <tr>\n",
       "      <th>18</th>\n",
       "      <td>5d5d83cac56427b284d539a1</td>\n",
       "      <td>attend wed bring 7 month puppy desk fabulous a...</td>\n",
       "    </tr>\n",
       "    <tr>\n",
       "      <th>19</th>\n",
       "      <td>5d5d83cac56427b284d539a2</td>\n",
       "      <td>love stay bustle main town close enjoy free sh...</td>\n",
       "    </tr>\n",
       "  </tbody>\n",
       "</table>\n",
       "</div>"
      ],
      "text/plain": [
       "                         _id  \\\n",
       "0   5d5d83cac56427b284d5398f   \n",
       "1   5d5d83cac56427b284d53990   \n",
       "2   5d5d83cac56427b284d53991   \n",
       "3   5d5d83cac56427b284d53992   \n",
       "4   5d5d83cac56427b284d53993   \n",
       "5   5d5d83cac56427b284d53994   \n",
       "6   5d5d83cac56427b284d53995   \n",
       "7   5d5d83cac56427b284d53996   \n",
       "8   5d5d83cac56427b284d53997   \n",
       "9   5d5d83cac56427b284d53998   \n",
       "10  5d5d83cac56427b284d53999   \n",
       "11  5d5d83cac56427b284d5399a   \n",
       "12  5d5d83cac56427b284d5399b   \n",
       "13  5d5d83cac56427b284d5399c   \n",
       "14  5d5d83cac56427b284d5399d   \n",
       "15  5d5d83cac56427b284d5399e   \n",
       "16  5d5d83cac56427b284d5399f   \n",
       "17  5d5d83cac56427b284d539a0   \n",
       "18  5d5d83cac56427b284d539a1   \n",
       "19  5d5d83cac56427b284d539a2   \n",
       "\n",
       "                                          After_Clean  \n",
       "0   reasonably price place stay canada amaze servi...  \n",
       "1   spend 3 night enjoyable impress location away ...  \n",
       "2   bump property early room ready happen desk new...  \n",
       "3   desk staff geoff australian look bike kayak ge...  \n",
       "4   wonderful choice look away surrounding lodge s...  \n",
       "5   wonderful stay room appoint view lake room cle...  \n",
       "6   stay ease check walk lake suit large restauran...  \n",
       "7   far home away home disappoint love perk drive ...  \n",
       "8   spend night lodge workrelated event workshop r...  \n",
       "9   review long overdue visit lodge couple year ag...  \n",
       "10  return fantastic week long stay upmarket bouti...  \n",
       "11  luxury lodge view lake big room fireplace room...  \n",
       "12  place fabulous staff room spotlessly clean sup...  \n",
       "13  whistler notch accommodation 1 step guest serv...  \n",
       "14  husband stay recently celebrate 12th anniversa...  \n",
       "15  2 bedroom suite large spacious fabulous view l...  \n",
       "16  love staff friendly helpful madeyou feel impos...  \n",
       "17  wonderful whistler vacation description rustic...  \n",
       "18  attend wed bring 7 month puppy desk fabulous a...  \n",
       "19  love stay bustle main town close enjoy free sh...  "
      ]
     },
     "execution_count": 50,
     "metadata": {},
     "output_type": "execute_result"
    }
   ],
   "source": [
    "\n",
    "spacy_final['After_Clean'] = spacy_final['After_Clean'].apply(\n",
    "    lambda x: ' '.join([word for word in x.split() if word not in (remove_words)]))\n",
    "\n",
    "spacy_final.head(20)\n"
   ]
  },
  {
   "cell_type": "markdown",
   "metadata": {},
   "source": [
    "### Count Vectorize Spacy"
   ]
  },
  {
   "cell_type": "code",
   "execution_count": 51,
   "metadata": {
    "ExecuteTime": {
     "end_time": "2019-08-23T09:22:13.934596Z",
     "start_time": "2019-08-23T09:22:13.931998Z"
    }
   },
   "outputs": [],
   "source": [
    "cv_spacy = CountVectorizer(ngram_range=(2,3), min_df = 0.01)"
   ]
  },
  {
   "cell_type": "code",
   "execution_count": 52,
   "metadata": {
    "ExecuteTime": {
     "end_time": "2019-08-23T09:22:14.783604Z",
     "start_time": "2019-08-23T09:22:13.936496Z"
    }
   },
   "outputs": [],
   "source": [
    "X3 = cv_spacy.fit_transform(spacy_final['After_Clean'])\n",
    "temp3 = pd.DataFrame(X3.toarray(), columns=cv_spacy.get_feature_names())"
   ]
  },
  {
   "cell_type": "code",
   "execution_count": 53,
   "metadata": {
    "ExecuteTime": {
     "end_time": "2019-08-23T09:22:14.810247Z",
     "start_time": "2019-08-23T09:22:14.785323Z"
    }
   },
   "outputs": [
    {
     "data": {
      "text/html": [
       "<div>\n",
       "<style scoped>\n",
       "    .dataframe tbody tr th:only-of-type {\n",
       "        vertical-align: middle;\n",
       "    }\n",
       "\n",
       "    .dataframe tbody tr th {\n",
       "        vertical-align: top;\n",
       "    }\n",
       "\n",
       "    .dataframe thead th {\n",
       "        text-align: right;\n",
       "    }\n",
       "</style>\n",
       "<table border=\"1\" class=\"dataframe\">\n",
       "  <thead>\n",
       "    <tr style=\"text-align: right;\">\n",
       "      <th></th>\n",
       "      <th>After_Clean</th>\n",
       "      <th>10 minute</th>\n",
       "      <th>20 night</th>\n",
       "      <th>30 minute</th>\n",
       "      <th>amaze view</th>\n",
       "      <th>aura restaurant</th>\n",
       "      <th>away hustle</th>\n",
       "      <th>away hustle bustle</th>\n",
       "      <th>away village</th>\n",
       "      <th>away whistler</th>\n",
       "      <th>...</th>\n",
       "      <th>whistler blackcomb</th>\n",
       "      <th>whistler creekside</th>\n",
       "      <th>whistler mountain</th>\n",
       "      <th>whistler stay</th>\n",
       "      <th>whistler time</th>\n",
       "      <th>whistler village</th>\n",
       "      <th>wife stay</th>\n",
       "      <th>wish stay</th>\n",
       "      <th>wish stay long</th>\n",
       "      <th>wonderful stay</th>\n",
       "    </tr>\n",
       "    <tr>\n",
       "      <th>_id</th>\n",
       "      <th></th>\n",
       "      <th></th>\n",
       "      <th></th>\n",
       "      <th></th>\n",
       "      <th></th>\n",
       "      <th></th>\n",
       "      <th></th>\n",
       "      <th></th>\n",
       "      <th></th>\n",
       "      <th></th>\n",
       "      <th></th>\n",
       "      <th></th>\n",
       "      <th></th>\n",
       "      <th></th>\n",
       "      <th></th>\n",
       "      <th></th>\n",
       "      <th></th>\n",
       "      <th></th>\n",
       "      <th></th>\n",
       "      <th></th>\n",
       "      <th></th>\n",
       "    </tr>\n",
       "  </thead>\n",
       "  <tbody>\n",
       "    <tr>\n",
       "      <th>5d5d83cac56427b284d5398f</th>\n",
       "      <td>reasonably price place stay canada amaze servi...</td>\n",
       "      <td>0</td>\n",
       "      <td>0</td>\n",
       "      <td>0</td>\n",
       "      <td>0</td>\n",
       "      <td>0</td>\n",
       "      <td>0</td>\n",
       "      <td>0</td>\n",
       "      <td>0</td>\n",
       "      <td>0</td>\n",
       "      <td>...</td>\n",
       "      <td>0</td>\n",
       "      <td>0</td>\n",
       "      <td>0</td>\n",
       "      <td>0</td>\n",
       "      <td>0</td>\n",
       "      <td>0</td>\n",
       "      <td>0</td>\n",
       "      <td>0</td>\n",
       "      <td>0</td>\n",
       "      <td>0</td>\n",
       "    </tr>\n",
       "    <tr>\n",
       "      <th>5d5d83cac56427b284d53990</th>\n",
       "      <td>spend 3 night enjoyable impress location away ...</td>\n",
       "      <td>0</td>\n",
       "      <td>0</td>\n",
       "      <td>0</td>\n",
       "      <td>0</td>\n",
       "      <td>0</td>\n",
       "      <td>0</td>\n",
       "      <td>0</td>\n",
       "      <td>0</td>\n",
       "      <td>0</td>\n",
       "      <td>...</td>\n",
       "      <td>0</td>\n",
       "      <td>0</td>\n",
       "      <td>0</td>\n",
       "      <td>0</td>\n",
       "      <td>0</td>\n",
       "      <td>1</td>\n",
       "      <td>0</td>\n",
       "      <td>0</td>\n",
       "      <td>0</td>\n",
       "      <td>0</td>\n",
       "    </tr>\n",
       "    <tr>\n",
       "      <th>5d5d83cac56427b284d53991</th>\n",
       "      <td>bump property early room ready happen desk new...</td>\n",
       "      <td>0</td>\n",
       "      <td>0</td>\n",
       "      <td>0</td>\n",
       "      <td>0</td>\n",
       "      <td>0</td>\n",
       "      <td>0</td>\n",
       "      <td>0</td>\n",
       "      <td>0</td>\n",
       "      <td>0</td>\n",
       "      <td>...</td>\n",
       "      <td>0</td>\n",
       "      <td>0</td>\n",
       "      <td>0</td>\n",
       "      <td>0</td>\n",
       "      <td>0</td>\n",
       "      <td>0</td>\n",
       "      <td>0</td>\n",
       "      <td>0</td>\n",
       "      <td>0</td>\n",
       "      <td>0</td>\n",
       "    </tr>\n",
       "    <tr>\n",
       "      <th>5d5d83cac56427b284d53992</th>\n",
       "      <td>desk staff geoff australian look bike kayak ge...</td>\n",
       "      <td>0</td>\n",
       "      <td>0</td>\n",
       "      <td>0</td>\n",
       "      <td>0</td>\n",
       "      <td>0</td>\n",
       "      <td>0</td>\n",
       "      <td>0</td>\n",
       "      <td>0</td>\n",
       "      <td>0</td>\n",
       "      <td>...</td>\n",
       "      <td>0</td>\n",
       "      <td>0</td>\n",
       "      <td>0</td>\n",
       "      <td>0</td>\n",
       "      <td>0</td>\n",
       "      <td>0</td>\n",
       "      <td>0</td>\n",
       "      <td>0</td>\n",
       "      <td>0</td>\n",
       "      <td>0</td>\n",
       "    </tr>\n",
       "    <tr>\n",
       "      <th>5d5d83cac56427b284d53993</th>\n",
       "      <td>wonderful choice look away surrounding lodge s...</td>\n",
       "      <td>0</td>\n",
       "      <td>0</td>\n",
       "      <td>0</td>\n",
       "      <td>0</td>\n",
       "      <td>0</td>\n",
       "      <td>0</td>\n",
       "      <td>0</td>\n",
       "      <td>0</td>\n",
       "      <td>0</td>\n",
       "      <td>...</td>\n",
       "      <td>0</td>\n",
       "      <td>0</td>\n",
       "      <td>0</td>\n",
       "      <td>0</td>\n",
       "      <td>0</td>\n",
       "      <td>0</td>\n",
       "      <td>0</td>\n",
       "      <td>0</td>\n",
       "      <td>0</td>\n",
       "      <td>0</td>\n",
       "    </tr>\n",
       "  </tbody>\n",
       "</table>\n",
       "<p>5 rows × 317 columns</p>\n",
       "</div>"
      ],
      "text/plain": [
       "                                                                After_Clean  \\\n",
       "_id                                                                           \n",
       "5d5d83cac56427b284d5398f  reasonably price place stay canada amaze servi...   \n",
       "5d5d83cac56427b284d53990  spend 3 night enjoyable impress location away ...   \n",
       "5d5d83cac56427b284d53991  bump property early room ready happen desk new...   \n",
       "5d5d83cac56427b284d53992  desk staff geoff australian look bike kayak ge...   \n",
       "5d5d83cac56427b284d53993  wonderful choice look away surrounding lodge s...   \n",
       "\n",
       "                          10 minute  20 night  30 minute  amaze view  \\\n",
       "_id                                                                    \n",
       "5d5d83cac56427b284d5398f          0         0          0           0   \n",
       "5d5d83cac56427b284d53990          0         0          0           0   \n",
       "5d5d83cac56427b284d53991          0         0          0           0   \n",
       "5d5d83cac56427b284d53992          0         0          0           0   \n",
       "5d5d83cac56427b284d53993          0         0          0           0   \n",
       "\n",
       "                          aura restaurant  away hustle  away hustle bustle  \\\n",
       "_id                                                                          \n",
       "5d5d83cac56427b284d5398f                0            0                   0   \n",
       "5d5d83cac56427b284d53990                0            0                   0   \n",
       "5d5d83cac56427b284d53991                0            0                   0   \n",
       "5d5d83cac56427b284d53992                0            0                   0   \n",
       "5d5d83cac56427b284d53993                0            0                   0   \n",
       "\n",
       "                          away village  away whistler  ...  \\\n",
       "_id                                                    ...   \n",
       "5d5d83cac56427b284d5398f             0              0  ...   \n",
       "5d5d83cac56427b284d53990             0              0  ...   \n",
       "5d5d83cac56427b284d53991             0              0  ...   \n",
       "5d5d83cac56427b284d53992             0              0  ...   \n",
       "5d5d83cac56427b284d53993             0              0  ...   \n",
       "\n",
       "                          whistler blackcomb  whistler creekside  \\\n",
       "_id                                                                \n",
       "5d5d83cac56427b284d5398f                   0                   0   \n",
       "5d5d83cac56427b284d53990                   0                   0   \n",
       "5d5d83cac56427b284d53991                   0                   0   \n",
       "5d5d83cac56427b284d53992                   0                   0   \n",
       "5d5d83cac56427b284d53993                   0                   0   \n",
       "\n",
       "                          whistler mountain  whistler stay  whistler time  \\\n",
       "_id                                                                         \n",
       "5d5d83cac56427b284d5398f                  0              0              0   \n",
       "5d5d83cac56427b284d53990                  0              0              0   \n",
       "5d5d83cac56427b284d53991                  0              0              0   \n",
       "5d5d83cac56427b284d53992                  0              0              0   \n",
       "5d5d83cac56427b284d53993                  0              0              0   \n",
       "\n",
       "                          whistler village  wife stay  wish stay  \\\n",
       "_id                                                                \n",
       "5d5d83cac56427b284d5398f                 0          0          0   \n",
       "5d5d83cac56427b284d53990                 1          0          0   \n",
       "5d5d83cac56427b284d53991                 0          0          0   \n",
       "5d5d83cac56427b284d53992                 0          0          0   \n",
       "5d5d83cac56427b284d53993                 0          0          0   \n",
       "\n",
       "                          wish stay long  wonderful stay  \n",
       "_id                                                       \n",
       "5d5d83cac56427b284d5398f               0               0  \n",
       "5d5d83cac56427b284d53990               0               0  \n",
       "5d5d83cac56427b284d53991               0               0  \n",
       "5d5d83cac56427b284d53992               0               0  \n",
       "5d5d83cac56427b284d53993               0               0  \n",
       "\n",
       "[5 rows x 317 columns]"
      ]
     },
     "execution_count": 53,
     "metadata": {},
     "output_type": "execute_result"
    }
   ],
   "source": [
    "count_vec_spacy = pd.concat([spacy_final, temp3], axis = 1)\n",
    "count_vec_spacy.set_index('_id', inplace = True)\n",
    "count_vec_spacy.head()"
   ]
  },
  {
   "cell_type": "markdown",
   "metadata": {},
   "source": [
    "### TF-IDF Spacy"
   ]
  },
  {
   "cell_type": "code",
   "execution_count": 54,
   "metadata": {
    "ExecuteTime": {
     "end_time": "2019-08-23T09:22:14.814406Z",
     "start_time": "2019-08-23T09:22:14.811948Z"
    }
   },
   "outputs": [],
   "source": [
    "tfidf_spacy = TfidfVectorizer(ngram_range=(2, 3), min_df=0.01)"
   ]
  },
  {
   "cell_type": "code",
   "execution_count": 55,
   "metadata": {
    "ExecuteTime": {
     "end_time": "2019-08-23T09:22:15.645727Z",
     "start_time": "2019-08-23T09:22:14.815875Z"
    }
   },
   "outputs": [],
   "source": [
    "X4 = tfidf_spacy.fit_transform(spacy_final['After_Clean'])\n",
    "temp4 = pd.DataFrame(X4.toarray(), columns=tfidf_spacy.get_feature_names())"
   ]
  },
  {
   "cell_type": "code",
   "execution_count": 56,
   "metadata": {
    "ExecuteTime": {
     "end_time": "2019-08-23T09:22:15.678855Z",
     "start_time": "2019-08-23T09:22:15.647445Z"
    }
   },
   "outputs": [
    {
     "data": {
      "text/html": [
       "<div>\n",
       "<style scoped>\n",
       "    .dataframe tbody tr th:only-of-type {\n",
       "        vertical-align: middle;\n",
       "    }\n",
       "\n",
       "    .dataframe tbody tr th {\n",
       "        vertical-align: top;\n",
       "    }\n",
       "\n",
       "    .dataframe thead th {\n",
       "        text-align: right;\n",
       "    }\n",
       "</style>\n",
       "<table border=\"1\" class=\"dataframe\">\n",
       "  <thead>\n",
       "    <tr style=\"text-align: right;\">\n",
       "      <th></th>\n",
       "      <th>After_Clean</th>\n",
       "      <th>10 minute</th>\n",
       "      <th>20 night</th>\n",
       "      <th>30 minute</th>\n",
       "      <th>amaze view</th>\n",
       "      <th>aura restaurant</th>\n",
       "      <th>away hustle</th>\n",
       "      <th>away hustle bustle</th>\n",
       "      <th>away village</th>\n",
       "      <th>away whistler</th>\n",
       "      <th>...</th>\n",
       "      <th>whistler blackcomb</th>\n",
       "      <th>whistler creekside</th>\n",
       "      <th>whistler mountain</th>\n",
       "      <th>whistler stay</th>\n",
       "      <th>whistler time</th>\n",
       "      <th>whistler village</th>\n",
       "      <th>wife stay</th>\n",
       "      <th>wish stay</th>\n",
       "      <th>wish stay long</th>\n",
       "      <th>wonderful stay</th>\n",
       "    </tr>\n",
       "    <tr>\n",
       "      <th>_id</th>\n",
       "      <th></th>\n",
       "      <th></th>\n",
       "      <th></th>\n",
       "      <th></th>\n",
       "      <th></th>\n",
       "      <th></th>\n",
       "      <th></th>\n",
       "      <th></th>\n",
       "      <th></th>\n",
       "      <th></th>\n",
       "      <th></th>\n",
       "      <th></th>\n",
       "      <th></th>\n",
       "      <th></th>\n",
       "      <th></th>\n",
       "      <th></th>\n",
       "      <th></th>\n",
       "      <th></th>\n",
       "      <th></th>\n",
       "      <th></th>\n",
       "      <th></th>\n",
       "    </tr>\n",
       "  </thead>\n",
       "  <tbody>\n",
       "    <tr>\n",
       "      <th>5d5d83cac56427b284d5398f</th>\n",
       "      <td>reasonably price place stay canada amaze servi...</td>\n",
       "      <td>0.0</td>\n",
       "      <td>0.0</td>\n",
       "      <td>0.0</td>\n",
       "      <td>0.0</td>\n",
       "      <td>0.0</td>\n",
       "      <td>0.0</td>\n",
       "      <td>0.0</td>\n",
       "      <td>0.0</td>\n",
       "      <td>0.0</td>\n",
       "      <td>...</td>\n",
       "      <td>0.0</td>\n",
       "      <td>0.0</td>\n",
       "      <td>0.0</td>\n",
       "      <td>0.0</td>\n",
       "      <td>0.0</td>\n",
       "      <td>0.000000</td>\n",
       "      <td>0.0</td>\n",
       "      <td>0.0</td>\n",
       "      <td>0.0</td>\n",
       "      <td>0.0</td>\n",
       "    </tr>\n",
       "    <tr>\n",
       "      <th>5d5d83cac56427b284d53990</th>\n",
       "      <td>spend 3 night enjoyable impress location away ...</td>\n",
       "      <td>0.0</td>\n",
       "      <td>0.0</td>\n",
       "      <td>0.0</td>\n",
       "      <td>0.0</td>\n",
       "      <td>0.0</td>\n",
       "      <td>0.0</td>\n",
       "      <td>0.0</td>\n",
       "      <td>0.0</td>\n",
       "      <td>0.0</td>\n",
       "      <td>...</td>\n",
       "      <td>0.0</td>\n",
       "      <td>0.0</td>\n",
       "      <td>0.0</td>\n",
       "      <td>0.0</td>\n",
       "      <td>0.0</td>\n",
       "      <td>0.228178</td>\n",
       "      <td>0.0</td>\n",
       "      <td>0.0</td>\n",
       "      <td>0.0</td>\n",
       "      <td>0.0</td>\n",
       "    </tr>\n",
       "    <tr>\n",
       "      <th>5d5d83cac56427b284d53991</th>\n",
       "      <td>bump property early room ready happen desk new...</td>\n",
       "      <td>0.0</td>\n",
       "      <td>0.0</td>\n",
       "      <td>0.0</td>\n",
       "      <td>0.0</td>\n",
       "      <td>0.0</td>\n",
       "      <td>0.0</td>\n",
       "      <td>0.0</td>\n",
       "      <td>0.0</td>\n",
       "      <td>0.0</td>\n",
       "      <td>...</td>\n",
       "      <td>0.0</td>\n",
       "      <td>0.0</td>\n",
       "      <td>0.0</td>\n",
       "      <td>0.0</td>\n",
       "      <td>0.0</td>\n",
       "      <td>0.000000</td>\n",
       "      <td>0.0</td>\n",
       "      <td>0.0</td>\n",
       "      <td>0.0</td>\n",
       "      <td>0.0</td>\n",
       "    </tr>\n",
       "    <tr>\n",
       "      <th>5d5d83cac56427b284d53992</th>\n",
       "      <td>desk staff geoff australian look bike kayak ge...</td>\n",
       "      <td>0.0</td>\n",
       "      <td>0.0</td>\n",
       "      <td>0.0</td>\n",
       "      <td>0.0</td>\n",
       "      <td>0.0</td>\n",
       "      <td>0.0</td>\n",
       "      <td>0.0</td>\n",
       "      <td>0.0</td>\n",
       "      <td>0.0</td>\n",
       "      <td>...</td>\n",
       "      <td>0.0</td>\n",
       "      <td>0.0</td>\n",
       "      <td>0.0</td>\n",
       "      <td>0.0</td>\n",
       "      <td>0.0</td>\n",
       "      <td>0.000000</td>\n",
       "      <td>0.0</td>\n",
       "      <td>0.0</td>\n",
       "      <td>0.0</td>\n",
       "      <td>0.0</td>\n",
       "    </tr>\n",
       "    <tr>\n",
       "      <th>5d5d83cac56427b284d53993</th>\n",
       "      <td>wonderful choice look away surrounding lodge s...</td>\n",
       "      <td>0.0</td>\n",
       "      <td>0.0</td>\n",
       "      <td>0.0</td>\n",
       "      <td>0.0</td>\n",
       "      <td>0.0</td>\n",
       "      <td>0.0</td>\n",
       "      <td>0.0</td>\n",
       "      <td>0.0</td>\n",
       "      <td>0.0</td>\n",
       "      <td>...</td>\n",
       "      <td>0.0</td>\n",
       "      <td>0.0</td>\n",
       "      <td>0.0</td>\n",
       "      <td>0.0</td>\n",
       "      <td>0.0</td>\n",
       "      <td>0.000000</td>\n",
       "      <td>0.0</td>\n",
       "      <td>0.0</td>\n",
       "      <td>0.0</td>\n",
       "      <td>0.0</td>\n",
       "    </tr>\n",
       "  </tbody>\n",
       "</table>\n",
       "<p>5 rows × 317 columns</p>\n",
       "</div>"
      ],
      "text/plain": [
       "                                                                After_Clean  \\\n",
       "_id                                                                           \n",
       "5d5d83cac56427b284d5398f  reasonably price place stay canada amaze servi...   \n",
       "5d5d83cac56427b284d53990  spend 3 night enjoyable impress location away ...   \n",
       "5d5d83cac56427b284d53991  bump property early room ready happen desk new...   \n",
       "5d5d83cac56427b284d53992  desk staff geoff australian look bike kayak ge...   \n",
       "5d5d83cac56427b284d53993  wonderful choice look away surrounding lodge s...   \n",
       "\n",
       "                          10 minute  20 night  30 minute  amaze view  \\\n",
       "_id                                                                    \n",
       "5d5d83cac56427b284d5398f        0.0       0.0        0.0         0.0   \n",
       "5d5d83cac56427b284d53990        0.0       0.0        0.0         0.0   \n",
       "5d5d83cac56427b284d53991        0.0       0.0        0.0         0.0   \n",
       "5d5d83cac56427b284d53992        0.0       0.0        0.0         0.0   \n",
       "5d5d83cac56427b284d53993        0.0       0.0        0.0         0.0   \n",
       "\n",
       "                          aura restaurant  away hustle  away hustle bustle  \\\n",
       "_id                                                                          \n",
       "5d5d83cac56427b284d5398f              0.0          0.0                 0.0   \n",
       "5d5d83cac56427b284d53990              0.0          0.0                 0.0   \n",
       "5d5d83cac56427b284d53991              0.0          0.0                 0.0   \n",
       "5d5d83cac56427b284d53992              0.0          0.0                 0.0   \n",
       "5d5d83cac56427b284d53993              0.0          0.0                 0.0   \n",
       "\n",
       "                          away village  away whistler  ...  \\\n",
       "_id                                                    ...   \n",
       "5d5d83cac56427b284d5398f           0.0            0.0  ...   \n",
       "5d5d83cac56427b284d53990           0.0            0.0  ...   \n",
       "5d5d83cac56427b284d53991           0.0            0.0  ...   \n",
       "5d5d83cac56427b284d53992           0.0            0.0  ...   \n",
       "5d5d83cac56427b284d53993           0.0            0.0  ...   \n",
       "\n",
       "                          whistler blackcomb  whistler creekside  \\\n",
       "_id                                                                \n",
       "5d5d83cac56427b284d5398f                 0.0                 0.0   \n",
       "5d5d83cac56427b284d53990                 0.0                 0.0   \n",
       "5d5d83cac56427b284d53991                 0.0                 0.0   \n",
       "5d5d83cac56427b284d53992                 0.0                 0.0   \n",
       "5d5d83cac56427b284d53993                 0.0                 0.0   \n",
       "\n",
       "                          whistler mountain  whistler stay  whistler time  \\\n",
       "_id                                                                         \n",
       "5d5d83cac56427b284d5398f                0.0            0.0            0.0   \n",
       "5d5d83cac56427b284d53990                0.0            0.0            0.0   \n",
       "5d5d83cac56427b284d53991                0.0            0.0            0.0   \n",
       "5d5d83cac56427b284d53992                0.0            0.0            0.0   \n",
       "5d5d83cac56427b284d53993                0.0            0.0            0.0   \n",
       "\n",
       "                          whistler village  wife stay  wish stay  \\\n",
       "_id                                                                \n",
       "5d5d83cac56427b284d5398f          0.000000        0.0        0.0   \n",
       "5d5d83cac56427b284d53990          0.228178        0.0        0.0   \n",
       "5d5d83cac56427b284d53991          0.000000        0.0        0.0   \n",
       "5d5d83cac56427b284d53992          0.000000        0.0        0.0   \n",
       "5d5d83cac56427b284d53993          0.000000        0.0        0.0   \n",
       "\n",
       "                          wish stay long  wonderful stay  \n",
       "_id                                                       \n",
       "5d5d83cac56427b284d5398f             0.0             0.0  \n",
       "5d5d83cac56427b284d53990             0.0             0.0  \n",
       "5d5d83cac56427b284d53991             0.0             0.0  \n",
       "5d5d83cac56427b284d53992             0.0             0.0  \n",
       "5d5d83cac56427b284d53993             0.0             0.0  \n",
       "\n",
       "[5 rows x 317 columns]"
      ]
     },
     "execution_count": 56,
     "metadata": {},
     "output_type": "execute_result"
    }
   ],
   "source": [
    "tf_idf_spacy = pd.concat([spacy_final, temp4], axis = 1)\n",
    "tf_idf_spacy.set_index('_id', inplace = True)\n",
    "tf_idf_spacy.head()"
   ]
  },
  {
   "cell_type": "markdown",
   "metadata": {},
   "source": [
    "## Pickling all Vectors"
   ]
  },
  {
   "cell_type": "markdown",
   "metadata": {},
   "source": [
    "### For LSA and NMF"
   ]
  },
  {
   "cell_type": "markdown",
   "metadata": {
    "heading_collapsed": true
   },
   "source": [
    "#### Count Vectorized Data"
   ]
  },
  {
   "cell_type": "code",
   "execution_count": 57,
   "metadata": {
    "ExecuteTime": {
     "end_time": "2019-08-23T09:22:15.682608Z",
     "start_time": "2019-08-23T09:22:15.680581Z"
    },
    "hidden": true
   },
   "outputs": [],
   "source": [
    "# with open('count_vec.pickle', 'wb') as to_write:\n",
    "#     pickle.dump(count_vec, to_write)"
   ]
  },
  {
   "cell_type": "markdown",
   "metadata": {
    "heading_collapsed": true
   },
   "source": [
    "#### TF-IDF'd Data"
   ]
  },
  {
   "cell_type": "code",
   "execution_count": 58,
   "metadata": {
    "ExecuteTime": {
     "end_time": "2019-08-23T09:22:15.686256Z",
     "start_time": "2019-08-23T09:22:15.684278Z"
    },
    "hidden": true
   },
   "outputs": [],
   "source": [
    "# with open('tf_idf.pickle', 'wb') as to_write:\n",
    "#     pickle.dump(tf_idf, to_write)"
   ]
  },
  {
   "cell_type": "markdown",
   "metadata": {},
   "source": [
    "#### Count Vectorized Data with Spacy"
   ]
  },
  {
   "cell_type": "code",
   "execution_count": 59,
   "metadata": {
    "ExecuteTime": {
     "end_time": "2019-08-23T09:22:15.705162Z",
     "start_time": "2019-08-23T09:22:15.687753Z"
    }
   },
   "outputs": [],
   "source": [
    "with open('count_vec_spacy.pickle', 'wb') as to_write:\n",
    "    pickle.dump(count_vec_spacy, to_write)"
   ]
  },
  {
   "cell_type": "markdown",
   "metadata": {},
   "source": [
    "#### TF-IDF'd Data with Spacy"
   ]
  },
  {
   "cell_type": "code",
   "execution_count": 60,
   "metadata": {
    "ExecuteTime": {
     "end_time": "2019-08-23T09:22:15.718355Z",
     "start_time": "2019-08-23T09:22:15.706868Z"
    }
   },
   "outputs": [],
   "source": [
    "with open('tf_idf_spacy.pickle', 'wb') as to_write:\n",
    "    pickle.dump(tf_idf_spacy, to_write)"
   ]
  },
  {
   "cell_type": "markdown",
   "metadata": {},
   "source": [
    "### Pickling for LDA"
   ]
  },
  {
   "cell_type": "markdown",
   "metadata": {
    "heading_collapsed": true
   },
   "source": [
    "#### Count Vectorized Data"
   ]
  },
  {
   "cell_type": "code",
   "execution_count": 61,
   "metadata": {
    "ExecuteTime": {
     "end_time": "2019-08-23T09:22:15.722051Z",
     "start_time": "2019-08-23T09:22:15.719975Z"
    },
    "hidden": true
   },
   "outputs": [],
   "source": [
    "# # Pickling the transposed sparse matrix for LDA\n",
    "# X_cv = X1.T\n",
    "# # X_cv.shape\n",
    "\n",
    "# id2word_cv = dict((v, k) for k, v in cv.vocabulary_.items())\n",
    "\n",
    "# with open('X_cv.pickle', 'wb') as to_write:\n",
    "#     pickle.dump(X_cv, to_write)\n",
    "    \n",
    "# with open('id2word_cv.pickle', 'wb') as to_write:\n",
    "#     pickle.dump(id2word_cv, to_write)"
   ]
  },
  {
   "cell_type": "markdown",
   "metadata": {
    "heading_collapsed": true
   },
   "source": [
    "#### TF-IDF'd Data"
   ]
  },
  {
   "cell_type": "code",
   "execution_count": 62,
   "metadata": {
    "ExecuteTime": {
     "end_time": "2019-08-23T09:22:15.725691Z",
     "start_time": "2019-08-23T09:22:15.723516Z"
    },
    "hidden": true
   },
   "outputs": [],
   "source": [
    "# # Pickling the transposed sparse matrix for LDA\n",
    "# X_tfi = X2.T\n",
    "# # X_cv.shape\n",
    "\n",
    "# id2word_tfi = dict((v, k) for k, v in tfidf1.vocabulary_.items())\n",
    "\n",
    "# with open('X_tfi.pickle', 'wb') as to_write:\n",
    "#     pickle.dump(X_tfi, to_write)\n",
    "    \n",
    "# with open('id2word_tfi.pickle', 'wb') as to_write:\n",
    "#     pickle.dump(id2word_tfi, to_write)"
   ]
  },
  {
   "cell_type": "markdown",
   "metadata": {},
   "source": [
    "#### Count Vectorized Data with Spacy"
   ]
  },
  {
   "cell_type": "code",
   "execution_count": 63,
   "metadata": {
    "ExecuteTime": {
     "end_time": "2019-08-23T09:22:15.733140Z",
     "start_time": "2019-08-23T09:22:15.727181Z"
    }
   },
   "outputs": [],
   "source": [
    "# Pickling the transposed sparse matrix for LDA\n",
    "X_cvspacy = X3.T\n",
    "# X_cv.shape\n",
    "\n",
    "id2word_cvspacy = dict((v, k) for k, v in cv_spacy.vocabulary_.items())\n",
    "\n",
    "with open('X_cvspacy.pickle', 'wb') as to_write:\n",
    "    pickle.dump(X_cvspacy, to_write)\n",
    "    \n",
    "with open('id2word_cvspacy.pickle', 'wb') as to_write:\n",
    "    pickle.dump(id2word_cvspacy, to_write)"
   ]
  },
  {
   "cell_type": "markdown",
   "metadata": {},
   "source": [
    "#### TF-IDF'd Data with Spacy"
   ]
  },
  {
   "cell_type": "code",
   "execution_count": 64,
   "metadata": {
    "ExecuteTime": {
     "end_time": "2019-08-23T09:22:15.742091Z",
     "start_time": "2019-08-23T09:22:15.734747Z"
    }
   },
   "outputs": [],
   "source": [
    "# Pickling the transposed sparse matrix for LDA\n",
    "X_tfispacy = X4.T\n",
    "# X_cv.shape\n",
    "\n",
    "id2word_tfispacy = dict((v, k) for k, v in tfidf_spacy.vocabulary_.items())\n",
    "\n",
    "with open('X_tfispacy.pickle', 'wb') as to_write:\n",
    "    pickle.dump(X_tfispacy, to_write)\n",
    "    \n",
    "with open('id2word_tfispacy.pickle', 'wb') as to_write:\n",
    "    pickle.dump(id2word_tfispacy, to_write)"
   ]
  },
  {
   "cell_type": "markdown",
   "metadata": {},
   "source": [
    "#### For Regression"
   ]
  },
  {
   "cell_type": "code",
   "execution_count": 66,
   "metadata": {
    "ExecuteTime": {
     "end_time": "2019-08-23T12:35:41.691957Z",
     "start_time": "2019-08-23T12:35:41.684345Z"
    }
   },
   "outputs": [
    {
     "data": {
      "text/html": [
       "<div>\n",
       "<style scoped>\n",
       "    .dataframe tbody tr th:only-of-type {\n",
       "        vertical-align: middle;\n",
       "    }\n",
       "\n",
       "    .dataframe tbody tr th {\n",
       "        vertical-align: top;\n",
       "    }\n",
       "\n",
       "    .dataframe thead th {\n",
       "        text-align: right;\n",
       "    }\n",
       "</style>\n",
       "<table border=\"1\" class=\"dataframe\">\n",
       "  <thead>\n",
       "    <tr style=\"text-align: right;\">\n",
       "      <th></th>\n",
       "      <th>helpful_vote</th>\n",
       "    </tr>\n",
       "  </thead>\n",
       "  <tbody>\n",
       "    <tr>\n",
       "      <th>0</th>\n",
       "      <td>23</td>\n",
       "    </tr>\n",
       "    <tr>\n",
       "      <th>1</th>\n",
       "      <td>38</td>\n",
       "    </tr>\n",
       "    <tr>\n",
       "      <th>2</th>\n",
       "      <td>4</td>\n",
       "    </tr>\n",
       "    <tr>\n",
       "      <th>3</th>\n",
       "      <td>27</td>\n",
       "    </tr>\n",
       "    <tr>\n",
       "      <th>4</th>\n",
       "      <td>1</td>\n",
       "    </tr>\n",
       "  </tbody>\n",
       "</table>\n",
       "</div>"
      ],
      "text/plain": [
       "  helpful_vote\n",
       "0           23\n",
       "1           38\n",
       "2            4\n",
       "3           27\n",
       "4            1"
      ]
     },
     "execution_count": 66,
     "metadata": {},
     "output_type": "execute_result"
    }
   ],
   "source": [
    "y = ta_df[['helpful_vote']]\n",
    "y.head()"
   ]
  },
  {
   "cell_type": "code",
   "execution_count": 67,
   "metadata": {
    "ExecuteTime": {
     "end_time": "2019-08-23T12:35:50.215056Z",
     "start_time": "2019-08-23T12:35:50.211552Z"
    }
   },
   "outputs": [
    {
     "data": {
      "text/plain": [
       "(2145, 1)"
      ]
     },
     "execution_count": 67,
     "metadata": {},
     "output_type": "execute_result"
    }
   ],
   "source": [
    "y.shape"
   ]
  },
  {
   "cell_type": "code",
   "execution_count": 68,
   "metadata": {
    "ExecuteTime": {
     "end_time": "2019-08-23T12:36:11.013468Z",
     "start_time": "2019-08-23T12:36:11.009806Z"
    }
   },
   "outputs": [],
   "source": [
    "with open('y.pickle', 'wb') as to_write:\n",
    "    pickle.dump(y, to_write)"
   ]
  },
  {
   "cell_type": "code",
   "execution_count": null,
   "metadata": {},
   "outputs": [],
   "source": []
  }
 ],
 "metadata": {
  "kernelspec": {
   "display_name": "Python [conda env:metis] *",
   "language": "python",
   "name": "conda-env-metis-py"
  },
  "language_info": {
   "codemirror_mode": {
    "name": "ipython",
    "version": 3
   },
   "file_extension": ".py",
   "mimetype": "text/x-python",
   "name": "python",
   "nbconvert_exporter": "python",
   "pygments_lexer": "ipython3",
   "version": "3.6.8"
  },
  "toc": {
   "base_numbering": 1,
   "nav_menu": {},
   "number_sections": true,
   "sideBar": true,
   "skip_h1_title": false,
   "title_cell": "Table of Contents",
   "title_sidebar": "Contents",
   "toc_cell": false,
   "toc_position": {
    "height": "calc(100% - 180px)",
    "left": "10px",
    "top": "150px",
    "width": "303.188px"
   },
   "toc_section_display": true,
   "toc_window_display": true
  },
  "varInspector": {
   "cols": {
    "lenName": 16,
    "lenType": 16,
    "lenVar": 40
   },
   "kernels_config": {
    "python": {
     "delete_cmd_postfix": "",
     "delete_cmd_prefix": "del ",
     "library": "var_list.py",
     "varRefreshCmd": "print(var_dic_list())"
    },
    "r": {
     "delete_cmd_postfix": ") ",
     "delete_cmd_prefix": "rm(",
     "library": "var_list.r",
     "varRefreshCmd": "cat(var_dic_list()) "
    }
   },
   "types_to_exclude": [
    "module",
    "function",
    "builtin_function_or_method",
    "instance",
    "_Feature"
   ],
   "window_display": false
  }
 },
 "nbformat": 4,
 "nbformat_minor": 2
}
